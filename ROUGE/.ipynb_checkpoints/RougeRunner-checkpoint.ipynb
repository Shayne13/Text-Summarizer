{
 "cells": [
  {
   "cell_type": "code",
   "execution_count": 6,
   "metadata": {
    "collapsed": false
   },
   "outputs": [],
   "source": [
    "import os\n",
    "import sys\n",
    "import subprocess\n",
    "import re\n",
    "import unicodedata\n",
    "\n",
    "\n",
    "### runRouge(goldSummary, testSummary)\n",
    "### PARAMS  - goldSummary and testSummary are lists of sentences \n",
    "### RETURNS - Runs ROUGE on those summaries and returns an int from 0-1,\n",
    "###           where a higher value represents a better match to GOLD\n",
    "\n",
    "def compareUsingRouge(goldSummary, testSummary):\n",
    "    goldFile = open(\"text_summarizer/models/1.html\", 'w')\n",
    "    testFile = open(\"text_summarizer/systems/1.html\", 'w')\n",
    "    writeSentencesToFile(goldSummary, goldFile)\n",
    "    writeSentencesToFile(testSummary, testFile)\n",
    "    goldFile.close()\n",
    "    testFile.close()\n",
    "    return runRouge()\n",
    "\n",
    "### Helper funcrions follow\n",
    "def runRouge():\n",
    "    rougeOutput = subprocess.check_output(['perl', 'ROUGE-1.5.5.pl', '-e', 'data', '-f', 'A', '-a', '-x', '-s', '-m', '-2', '-4', '-u', 'text_summarizer/settings.xml'])\n",
    "    \n",
    "    # Return results \n",
    "    firstScoreMatch = re.search(r'Average_R: (.{7})', rougeOutput)\n",
    "    firstScore = float(firstScoreMatch.group(1))\n",
    "    \n",
    "    secondScoreMatch = re.search(r'Average_P: (.{7})', rougeOutput)\n",
    "    secondScore = float(secondScoreMatch.group(1))\n",
    "    \n",
    "    thirdScoreMatch = re.search(r'Average_F: (.{7})', rougeOutput)\n",
    "    thirdScore = float(thirdScoreMatch.group(1))\n",
    "    \n",
    "    scores = [firstScore, secondScore, thirdScore]\n",
    "    \n",
    "    avgScore = sum(scores)/3\n",
    "    return avgScore        \n",
    "    \n",
    "def writeSentencesToFile(sentences, fileToWrite):\n",
    "    fileToWrite.write('<html>' + \"\\n\");\n",
    "    fileToWrite.write('<head><title>filename_here</title> </head>' + \"\\n\")\n",
    "    fileToWrite.write('<body bgcolor=\"white\"> ' + \"\\n\")\n",
    "\n",
    "    for index in range (0, len(sentences)):\n",
    "        fileToWrite.write('<a name=\\\"' + str(index+1) + '\">[' + str(index+1) + ']</a> <a href=\"#' + str(index+1) + '\" id=' + str(index+1) + '>')\n",
    "        fileToWrite.write(sentences[index])\n",
    "        fileToWrite.write('</a>'+\"\\n\")\n",
    "\n",
    "    fileToWrite.write('</body>'+\"\\n\"+'</html>')    \n",
    "\n",
    "### End of helper functions\n",
    "\n",
    "### Sample output (uncomment to test)\n",
    "\n",
    "#gold = [\"What a day!\", \"It was awesome!\", \"This is a great summary.\", \"I hope this is accurate.\", \"Let's see how good this is.\", \"Hey, are you good?\"]\n",
    "#genSum = [\"It was awesome!\", \"This is a grea|t summary.\", \"I hope this is accurate.\", \"Let's see how good this is.\", \"Hey, are you good?\"]\n",
    "#compareUsingRouge(gold, genSum)\n"
   ]
  },
  {
   "cell_type": "code",
   "execution_count": 5,
   "metadata": {
    "collapsed": false
   },
   "outputs": [
    {
     "data": {
      "text/plain": [
       "0.89384"
      ]
     },
     "execution_count": 5,
     "metadata": {},
     "output_type": "execute_result"
    }
   ],
   "source": [
    "runRouge()"
   ]
  },
  {
   "cell_type": "code",
   "execution_count": null,
   "metadata": {
    "collapsed": true
   },
   "outputs": [],
   "source": []
  }
 ],
 "metadata": {
  "kernelspec": {
   "display_name": "Python 2",
   "language": "python",
   "name": "python2"
  },
  "language_info": {
   "codemirror_mode": {
    "name": "ipython",
    "version": 2
   },
   "file_extension": ".py",
   "mimetype": "text/x-python",
   "name": "python",
   "nbconvert_exporter": "python",
   "pygments_lexer": "ipython2",
   "version": "2.7.6"
  }
 },
 "nbformat": 4,
 "nbformat_minor": 0
}
