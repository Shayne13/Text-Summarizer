{
 "cells": [
  {
   "cell_type": "code",
   "execution_count": 3,
   "metadata": {
    "collapsed": false
   },
   "outputs": [
    {
     "name": "stdout",
     "output_type": "stream",
     "text": [
      "Parsing files in: sample_rawdata ...\n",
      "[0] Summary for 0a14bbc9ed2e173752d0f6e9b0455cca.xml (John Calvin)  --->  sample_gold/gold_0a14bbc9ed2e173752d0f6e9b0455cca.txt\n",
      "[1] Summary for 0a20be5b6b253ab99abeadf6a660abf5.xml (El Lissitzky)  --->  sample_gold/gold_0a20be5b6b253ab99abeadf6a660abf5.txt\n",
      "[2] Summary for 0a36ec48fbe716534f61351534435650.xml (Sonatas and Interludes)  --->  sample_gold/gold_0a36ec48fbe716534f61351534435650.txt\n",
      "[3] Summary for 0a3bc28026f6c569153e8eea3aa28a5d.xml (The Lord of the Rings (1978 film))  --->  sample_gold/gold_0a3bc28026f6c569153e8eea3aa28a5d.txt\n",
      "[4] Summary for 0a4f82d285bd0a3136d6e7254f428647.xml (Order of St. Patrick)  --->  sample_gold/gold_0a4f82d285bd0a3136d6e7254f428647.txt\n",
      "[5] Summary for 0a6fd7fbcf2c2e42a8de54d1f30ac8ab.xml (Lundomys)  --->  sample_gold/gold_0a6fd7fbcf2c2e42a8de54d1f30ac8ab.txt\n",
      "Parsing files in: sample_rawdata ...\n",
      "[0] Parsing: 0a14bbc9ed2e173752d0f6e9b0455cca.xml\n",
      "[1] Parsing: 0a20be5b6b253ab99abeadf6a660abf5.xml\n",
      "[2] Parsing: 0a36ec48fbe716534f61351534435650.xml\n",
      "[3] Parsing: 0a3bc28026f6c569153e8eea3aa28a5d.xml\n",
      "[4] Parsing: 0a4f82d285bd0a3136d6e7254f428647.xml\n",
      "[5] Parsing: 0a6fd7fbcf2c2e42a8de54d1f30ac8ab.xml\n"
     ]
    }
   ],
   "source": [
    "from parser import *\n",
    "\n",
    "inputXML = \"sample_rawdata\"\n",
    "outputGold = \"sample_gold\"\n",
    "outputXML = \"sample_train\"\n",
    "    \n",
    "# <><><><><><><><><><><><><><><><><><><><><><><><><><><><><><><><>\n",
    "# TRAIN:\n",
    "# <><><><><><><><><><><><><><><><><><><><><><><><><><><><><><><><>\n",
    "\n",
    "summaries, summaryFeatures = parse_folder(inputXML, outputGold, 0)\n",
    "allSentences, allSurfaceFeatures = parse_folder(inputXML, outputXML, 1)"
   ]
  },
  {
   "cell_type": "code",
   "execution_count": 7,
   "metadata": {
    "collapsed": false
   },
   "outputs": [
    {
     "name": "stdout",
     "output_type": "stream",
     "text": [
      "20\n"
     ]
    }
   ],
   "source": [
    "print len(summaries[0])"
   ]
  },
  {
   "cell_type": "code",
   "execution_count": 5,
   "metadata": {
    "collapsed": false
   },
   "outputs": [
    {
     "name": "stdout",
     "output_type": "stream",
     "text": [
      "20\n"
     ]
    }
   ],
   "source": [
    "print len(summaryFeatures[0])"
   ]
  },
  {
   "cell_type": "code",
   "execution_count": null,
   "metadata": {
    "collapsed": true
   },
   "outputs": [],
   "source": []
  }
 ],
 "metadata": {
  "kernelspec": {
   "display_name": "Python 2",
   "language": "python",
   "name": "python2"
  },
  "language_info": {
   "codemirror_mode": {
    "name": "ipython",
    "version": 2
   },
   "file_extension": ".py",
   "mimetype": "text/x-python",
   "name": "python",
   "nbconvert_exporter": "python",
   "pygments_lexer": "ipython2",
   "version": "2.7.6"
  }
 },
 "nbformat": 4,
 "nbformat_minor": 0
}
