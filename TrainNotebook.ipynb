{
 "cells": [
  {
   "cell_type": "markdown",
   "metadata": {},
   "source": [
    "# Imports\n",
    "To begin, import these:"
   ]
  },
  {
   "cell_type": "code",
   "execution_count": 97,
   "metadata": {
    "collapsed": false
   },
   "outputs": [
    {
     "name": "stdout",
     "output_type": "stream",
     "text": [
      "The autoreload extension is already loaded. To reload it, use:\n",
      "  %reload_ext autoreload\n"
     ]
    }
   ],
   "source": [
    "%load_ext autoreload"
   ]
  },
  {
   "cell_type": "code",
   "execution_count": 98,
   "metadata": {
    "collapsed": false
   },
   "outputs": [],
   "source": [
    "# To reload: \n",
    "%autoreload"
   ]
  },
  {
   "cell_type": "code",
   "execution_count": 99,
   "metadata": {
    "collapsed": false
   },
   "outputs": [],
   "source": [
    "from parser import *\n",
    "from trainer import *"
   ]
  },
  {
   "cell_type": "markdown",
   "metadata": {},
   "source": [
    "Folders where files are stored:"
   ]
  },
  {
   "cell_type": "code",
   "execution_count": 4,
   "metadata": {
    "collapsed": true
   },
   "outputs": [],
   "source": [
    "# inputXML = \"sample_train\"\n",
    "# testXMLFolder = \"sample_test\"\n",
    "inputXML = \"sample_train_1\"\n",
    "testXMLFolder = \"sample_test_1\"\n",
    "summaryFolder = \"sample_summary\"\n",
    "bodyFolder = \"sample_body\""
   ]
  },
  {
   "cell_type": "markdown",
   "metadata": {},
   "source": [
    "# Parse\n",
    "Here is where we read and parse all of the Wikipedia articles."
   ]
  },
  {
   "cell_type": "code",
   "execution_count": 6,
   "metadata": {
    "collapsed": false,
    "scrolled": false
   },
   "outputs": [
    {
     "name": "stdout",
     "output_type": "stream",
     "text": [
      "<><><><><><><><><><><><><><><><><><><><><><><><><><><><><><><><><><><><><><><>\n",
      "STAGE [1] -- PARSING XML -- from sample_train_1 ...\n",
      "  -- Done. Took 0.905723 seconds process time for parsing 13 xml file(s). Writing now ...\n",
      "  -- Done. Took 0.000198 seconds to write <=26 summary/body file(s)\n",
      "STAGE [2] -- PROCESSING DATA -- (tokenizing/tagging/stopwords/extracting) ...\n",
      "  -- Done. Took 86.337423 seconds process time for processing 13 document(s)\n"
     ]
    }
   ],
   "source": [
    "documents, labels = parse_xml_folder(inputXML, summaryFolder, bodyFolder, writeOption='none')\n",
    "surfaceFeatures = process_data(documents)"
   ]
  },
  {
   "cell_type": "markdown",
   "metadata": {},
   "source": [
    "# Train\n",
    "After parsing, take the documents & labels and then train our model."
   ]
  },
  {
   "cell_type": "code",
   "execution_count": 7,
   "metadata": {
    "collapsed": false
   },
   "outputs": [
    {
     "name": "stdout",
     "output_type": "stream",
     "text": [
      "STAGE [3] -- FEATURIZING -- (TextRank, LexRank, LDA) ...\n",
      "  -- Done. Took 2115.900845 seconds process time to featurize 2544 vector(s)\n"
     ]
    }
   ],
   "source": [
    "# This might take awhile... \n",
    "features = featurize(documents, surfaceFeatures)"
   ]
  },
  {
   "cell_type": "markdown",
   "metadata": {},
   "source": [
    "First, we try logistic regression:"
   ]
  },
  {
   "cell_type": "code",
   "execution_count": 13,
   "metadata": {
    "collapsed": false
   },
   "outputs": [
    {
     "name": "stdout",
     "output_type": "stream",
     "text": [
      "STAGE [4] -- TRAINING MODEL -- Logistic Regression ...\n",
      "\n",
      "  -- Done. Took 0.107077 seconds process time to train 2544 data points\n",
      "\n",
      "             precision    recall  f1-score   support\n",
      "\n",
      "       BODY       0.98      0.84      0.90      2370\n",
      "    SUMMARY       0.27      0.81      0.40       174\n",
      "\n",
      "avg / total       0.93      0.84      0.87      2544\n",
      "\n"
     ]
    }
   ],
   "source": [
    "logRegMod, logRegVectorizer = train_and_print_results(features, labels, train_classifier_log_reg)"
   ]
  },
  {
   "cell_type": "markdown",
   "metadata": {},
   "source": [
    "Gaussian Naive Bayes:"
   ]
  },
  {
   "cell_type": "code",
   "execution_count": 14,
   "metadata": {
    "collapsed": false
   },
   "outputs": [
    {
     "name": "stdout",
     "output_type": "stream",
     "text": [
      "STAGE [4] -- TRAINING MODEL -- Gaussian Naive Bayes ...\n",
      " \n",
      "  -- Done. Took 0.08115 seconds process time to train 2544 data points\n",
      "\n",
      "             precision    recall  f1-score   support\n",
      "\n",
      "       BODY       0.97      0.21      0.35      2370\n",
      "    SUMMARY       0.08      0.92      0.15       174\n",
      "\n",
      "avg / total       0.91      0.26      0.33      2544\n",
      "\n"
     ]
    }
   ],
   "source": [
    "gaussianNBMod, gaNBVectorizer = train_and_print_results(features, labels, train_classifier_gaussian_NB)"
   ]
  },
  {
   "cell_type": "code",
   "execution_count": 100,
   "metadata": {
    "collapsed": false
   },
   "outputs": [
    {
     "name": "stdout",
     "output_type": "stream",
     "text": [
      "STAGE [4] -- TRAINING MODEL -- Support Vector Machine (SVM) ...\n",
      " \n",
      "  -- Done. Took 0.903484 seconds process time to train 2544 data points\n",
      "\n",
      "             precision    recall  f1-score   support\n",
      "\n",
      "       BODY       0.94      1.00      0.97      2370\n",
      "    SUMMARY       0.69      0.06      0.12       174\n",
      "\n",
      "avg / total       0.92      0.93      0.91      2544\n",
      "\n"
     ]
    }
   ],
   "source": [
    "SVMMod, SVMVectorizer = train_and_print_results(features, labels, train_classifier_SVM)"
   ]
  },
  {
   "cell_type": "markdown",
   "metadata": {},
   "source": [
    "Based on the above results, we will now chose the model to test with:"
   ]
  },
  {
   "cell_type": "code",
   "execution_count": 16,
   "metadata": {
    "collapsed": false
   },
   "outputs": [],
   "source": [
    "model = logRegMod\n",
    "vectorizer = logRegVectorizer"
   ]
  },
  {
   "cell_type": "markdown",
   "metadata": {},
   "source": [
    "# Test\n",
    "Then, we test on the test data from the testXML folder"
   ]
  },
  {
   "cell_type": "code",
   "execution_count": 32,
   "metadata": {
    "collapsed": false,
    "scrolled": true
   },
   "outputs": [
    {
     "name": "stdout",
     "output_type": "stream",
     "text": [
      "<><><><><><><><><><><><><><><><><><><><><><><><><><><><><><><><><><><><><><><>\n",
      "STAGE [1] -- PARSING XML -- from sample_test_1 ...\n",
      "  -- Done. Took 0.484701 seconds process time for parsing 10 xml file(s). Writing now ...\n",
      "  -- Done. Took 0.000145999999859 seconds to write <=20 summary/body file(s)\n",
      "STAGE [2] -- PROCESSING DATA -- (tokenizing/tagging/stopwords/extracting) ...\n",
      "  -- Done. Took 49.571896 seconds process time for processing 10 document(s)\n"
     ]
    }
   ],
   "source": [
    "testDocuments, testLabels = parse_xml_folder(testXMLFolder, summaryFolder, bodyFolder, writeOption='none')\n",
    "testSurfaceFeatures = process_data(testDocuments)"
   ]
  },
  {
   "cell_type": "markdown",
   "metadata": {},
   "source": [
    "Featurize the vectors, then evaluate the model"
   ]
  },
  {
   "cell_type": "code",
   "execution_count": 33,
   "metadata": {
    "collapsed": false,
    "scrolled": false
   },
   "outputs": [
    {
     "name": "stdout",
     "output_type": "stream",
     "text": [
      "STAGE [3] -- FEATURIZING -- (TextRank, LexRank, LDA) ...\n",
      "  -- Done. Took 759.657489 seconds process time to featurize 1509 vector(s)\n"
     ]
    }
   ],
   "source": [
    "testFeatures = featurize(testDocuments, testSurfaceFeatures)"
   ]
  },
  {
   "cell_type": "code",
   "execution_count": 57,
   "metadata": {
    "collapsed": false
   },
   "outputs": [
    {
     "name": "stdout",
     "output_type": "stream",
     "text": [
      "STAGE [5] -- TESTING -- Logistic Regression ...\n",
      "  -- Done. Took 0.000527000000147 seconds process time to test 1509 data points\n",
      "[ 0.62652575  0.71864776  0.68469152]\n",
      "             precision    recall  f1-score   support\n",
      "\n",
      "       BODY       0.97      0.84      0.90      1362\n",
      "    SUMMARY       0.33      0.74      0.46       147\n",
      "\n",
      "avg / total       0.91      0.83      0.85      1509\n",
      "\n"
     ]
    }
   ],
   "source": [
    "testFeatureMatrixLogReg = logRegVectorizer.transform(testFeatures) # Features = List of counters\n",
    "print evaluate_trained_classifier(logRegMod, testFeatureMatrixLogReg, testLabels)"
   ]
  },
  {
   "cell_type": "code",
   "execution_count": 58,
   "metadata": {
    "collapsed": false
   },
   "outputs": [
    {
     "name": "stdout",
     "output_type": "stream",
     "text": [
      "STAGE [5] -- TESTING -- Logistic Regression ...\n",
      "  -- Done. Took 0.00380399999995 seconds process time to test 1509 data points\n",
      "[ 0.57202353  0.16290276  0.18290258]\n",
      "             precision    recall  f1-score   support\n",
      "\n",
      "       BODY       0.96      0.21      0.34      1362\n",
      "    SUMMARY       0.11      0.91      0.20       147\n",
      "\n",
      "avg / total       0.87      0.28      0.33      1509\n",
      "\n"
     ]
    }
   ],
   "source": [
    "testFeatureMatrixGNB = gaNBVectorizer.transform(testFeatures) # Features = List of counters\n",
    "print evaluate_trained_classifier(gaussianNBMod, testFeatureMatrixGNB, testLabels)"
   ]
  },
  {
   "cell_type": "code",
   "execution_count": 101,
   "metadata": {
    "collapsed": false
   },
   "outputs": [
    {
     "name": "stdout",
     "output_type": "stream",
     "text": [
      "STAGE [5] -- TESTING -- Logistic Regression ...\n",
      "  -- Done. Took 0.0438509999999 seconds process time to test 1509 data points\n",
      "[ 0.47439916  0.47439916  0.47384937]\n",
      "             precision    recall  f1-score   support\n",
      "\n",
      "       BODY       0.90      1.00      0.95      1362\n",
      "    SUMMARY       0.50      0.02      0.04       147\n",
      "\n",
      "avg / total       0.86      0.90      0.86      1509\n",
      "\n"
     ]
    }
   ],
   "source": [
    "testFeatureMatrixSVM = SVMVectorizer.transform(testFeatures) # Features = List of counters\n",
    "print evaluate_trained_classifier(SVMMod, testFeatureMatrixSVM, testLabels)"
   ]
  },
  {
   "cell_type": "markdown",
   "metadata": {},
   "source": [
    "# ROUGE Analysis \n",
    "To evaluate against ROUGE, we first construct a summary for each document."
   ]
  },
  {
   "cell_type": "code",
   "execution_count": 61,
   "metadata": {
    "collapsed": true
   },
   "outputs": [],
   "source": [
    "def extract_summary(document):\n",
    "    summary = []\n",
    "    for su in document:\n",
    "        if su.label == 'summary':\n",
    "            summary.append(su.text)\n",
    "        else:\n",
    "            break\n",
    "    return summary"
   ]
  },
  {
   "cell_type": "code",
   "execution_count": 86,
   "metadata": {
    "collapsed": false
   },
   "outputs": [],
   "source": [
    "from heapq import nlargest\n",
    "\n",
    "def extract_top_ranked(document, featureMatrix, num, modelToRun):\n",
    "    predictions = modelToRun.predict_proba(featureMatrix)\n",
    "    itr = range(len(document))\n",
    "    topIndexes = nlargest(num, itr, key=lambda i: predictions[i][1])\n",
    "    topSentences = [ document[index].text for index in topIndexes]\n",
    "    return topSentences"
   ]
  },
  {
   "cell_type": "markdown",
   "metadata": {},
   "source": [
    "# Run ROUGE\n",
    "Now, we run ROUGE against the gold summaries."
   ]
  },
  {
   "cell_type": "code",
   "execution_count": 87,
   "metadata": {
    "collapsed": false
   },
   "outputs": [],
   "source": [
    "from RougeRunner import *\n",
    "\n",
    "def runROUGEOnMatrix(testFeatureMatrixYeah, model):\n",
    "\n",
    "    featIndex = 0\n",
    "    rouge_gold_summaries = []\n",
    "    rouge_generated_summaries = []\n",
    "    for i, tdoc in enumerate(testDocuments):\n",
    "        numSentences = len(tdoc)\n",
    "        rouge_gold_summaries.append(extract_summary(tdoc))\n",
    "        rouge_generated_summaries.append(extract_top_ranked(tdoc, testFeatureMatrixYeah[featIndex:featIndex+numSentences], 10, model))\n",
    "        featIndex += numSentences\n",
    "\n",
    "    pickle_gold_summaries = {}\n",
    "    pickle_generated_summaries = {}\n",
    "    for i in range(len(rouge_gold_summaries)):\n",
    "        pickle_gold_summaries[i] = rouge_gold_summaries[i]\n",
    "        pickle_generated_summaries[i] = rouge_generated_summaries[i]\n",
    "        \n",
    "    #import pickle\n",
    "    #pickle.dump( pickle_gold_summaries, open( \"pickle_gold_summaries.p\", \"wb\" ) )\n",
    "    #pickle.dump( pickle_generated_summaries, open( \"pickle_generated_summaries.p\", \"wb\" ) )        \n",
    "\n",
    "    rougeResults = []\n",
    "\n",
    "    #loaded_gold_summaries = pickle.load(open( \"pickle_gold_summaries.p\", \"rb\" ) )\n",
    "    #loaded_generated_summaries = pickle.load( open( \"pickle_generated_summaries.p\", \"rb\" ) )\n",
    "    loaded_gold_summaries = pickle_gold_summaries\n",
    "    loaded_generated_summaries = pickle_generated_summaries\n",
    "\n",
    "    for summaryIndex in range(len(loaded_gold_summaries)):\n",
    "        gold = loaded_gold_summaries[summaryIndex]\n",
    "        genSum = loaded_generated_summaries[summaryIndex]\n",
    "        rougeResults.append(compareUsingRouge(gold, genSum))\n",
    "\n",
    "    for result in rougeResults:\n",
    "        print result\n",
    "        \n",
    "    print \"Average {0}\".format(np.mean(rougeResults))"
   ]
  },
  {
   "cell_type": "code",
   "execution_count": 80,
   "metadata": {
    "collapsed": false
   },
   "outputs": [
    {
     "name": "stdout",
     "output_type": "stream",
     "text": [
      "0.38923\n",
      "0.21937\n",
      "0.23735\n",
      "0.36333\n",
      "0.15921\n",
      "0.45506\n",
      "0.33887\n",
      "0.22013\n",
      "0.48063\n",
      "0.13498\n",
      "Average 0.299816\n"
     ]
    }
   ],
   "source": [
    "runROUGEOnMatrix(testFeatureMatrixGNB, gaussianNBMod)"
   ]
  },
  {
   "cell_type": "code",
   "execution_count": 81,
   "metadata": {
    "collapsed": false
   },
   "outputs": [
    {
     "name": "stdout",
     "output_type": "stream",
     "text": [
      "0.34839\n",
      "0.22434\n",
      "0.30792\n",
      "0.29\n",
      "0.16513\n",
      "0.0938\n",
      "0.58267\n",
      "0.13668\n",
      "0.4007\n",
      "0.14767\n",
      "Average 0.26973\n"
     ]
    }
   ],
   "source": [
    "runROUGEOnMatrix(testFeatureMatrixLogReg, logRegMod)"
   ]
  },
  {
   "cell_type": "code",
   "execution_count": 102,
   "metadata": {
    "collapsed": false
   },
   "outputs": [
    {
     "name": "stdout",
     "output_type": "stream",
     "text": [
      "0.38426\n",
      "0.2141\n",
      "0.1756\n",
      "0.42341\n",
      "0.3253\n",
      "0.27273\n",
      "0.36786\n",
      "0.19591\n",
      "0.41217\n",
      "0.10167\n",
      "Average 0.287301\n"
     ]
    }
   ],
   "source": [
    "runROUGEOnMatrix(testFeatureMatrixSVM, SVMMod)"
   ]
  },
  {
   "cell_type": "code",
   "execution_count": null,
   "metadata": {
    "collapsed": true
   },
   "outputs": [],
   "source": []
  },
  {
   "cell_type": "code",
   "execution_count": null,
   "metadata": {
    "collapsed": true
   },
   "outputs": [],
   "source": []
  }
 ],
 "metadata": {
  "kernelspec": {
   "display_name": "Python 2",
   "language": "python",
   "name": "python2"
  },
  "language_info": {
   "codemirror_mode": {
    "name": "ipython",
    "version": 2
   },
   "file_extension": ".py",
   "mimetype": "text/x-python",
   "name": "python",
   "nbconvert_exporter": "python",
   "pygments_lexer": "ipython2",
   "version": "2.7.6"
  }
 },
 "nbformat": 4,
 "nbformat_minor": 0
}
