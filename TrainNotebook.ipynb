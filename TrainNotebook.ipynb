{
 "cells": [
  {
   "cell_type": "markdown",
   "metadata": {},
   "source": [
    "# Imports\n",
    "To begin, import these:"
   ]
  },
  {
   "cell_type": "code",
   "execution_count": 24,
   "metadata": {
    "collapsed": false
   },
   "outputs": [
    {
     "name": "stdout",
     "output_type": "stream",
     "text": [
      "The autoreload extension is already loaded. To reload it, use:\n",
      "  %reload_ext autoreload\n"
     ]
    }
   ],
   "source": [
    "%load_ext autoreload"
   ]
  },
  {
   "cell_type": "code",
   "execution_count": 25,
   "metadata": {
    "collapsed": false
   },
   "outputs": [],
   "source": [
    "# To reload: \n",
    "%autoreload"
   ]
  },
  {
   "cell_type": "code",
   "execution_count": 26,
   "metadata": {
    "collapsed": false
   },
   "outputs": [],
   "source": [
    "from parser import *\n",
    "from trainer import *"
   ]
  },
  {
   "cell_type": "markdown",
   "metadata": {},
   "source": [
    "Folders where files are stored:"
   ]
  },
  {
   "cell_type": "code",
   "execution_count": 13,
   "metadata": {
    "collapsed": true
   },
   "outputs": [],
   "source": [
    "# inputXML = \"sample_train\"\n",
    "# testXMLFolder = \"sample_test\"\n",
    "inputXML = \"sample_train_1\"\n",
    "testXMLFolder = \"sample_test_1\"\n",
    "summaryFolder = \"sample_summary\"\n",
    "bodyFolder = \"sample_body\""
   ]
  },
  {
   "cell_type": "markdown",
   "metadata": {},
   "source": [
    "# Parse\n",
    "Here is where we read and parse all of the Wikipedia articles."
   ]
  },
  {
   "cell_type": "code",
   "execution_count": 14,
   "metadata": {
    "collapsed": false,
    "scrolled": false
   },
   "outputs": [
    {
     "name": "stdout",
     "output_type": "stream",
     "text": [
      "<><><><><><><><><><><><><><><><><><><><><><><><><><><><><><><><><><><><><><><>\n",
      "STAGE [1] -- PARSING XML -- from sample_train_1 ...\n",
      "  -- Done. Took 0.034007 seconds process time for parsing 1 xml file(s). Writing now ...\n",
      "  -- Done. Took 4.39999999999e-05 seconds to write <=2 summary/body file(s)\n",
      "STAGE [2] -- PROCESSING DATA -- (tokenizing/tagging/stopwords/extracting) ...\n",
      "  -- Done. Took 2.915654 seconds process time for processing 1 document(s)\n"
     ]
    }
   ],
   "source": [
    "documents, labels = parse_xml_folder(inputXML, summaryFolder, bodyFolder, writeOption='none')\n",
    "surfaceFeatures = process_data(documents)"
   ]
  },
  {
   "cell_type": "markdown",
   "metadata": {},
   "source": [
    "# Train\n",
    "After parsing, take the documents & labels and then train our model."
   ]
  },
  {
   "cell_type": "code",
   "execution_count": 15,
   "metadata": {
    "collapsed": false
   },
   "outputs": [
    {
     "name": "stdout",
     "output_type": "stream",
     "text": [
      "STAGE [3] -- FEATURIZING -- (TextRank, LexRank, LDA) ...\n",
      "  -- Done. Took 18.271223 seconds process time to featurize 84 vector(s)\n"
     ]
    }
   ],
   "source": [
    "# This might take awhile... \n",
    "features = featurize(documents, surfaceFeatures)"
   ]
  },
  {
   "cell_type": "markdown",
   "metadata": {},
   "source": [
    "First, we try logistic regression:"
   ]
  },
  {
   "cell_type": "code",
   "execution_count": 27,
   "metadata": {
    "collapsed": false
   },
   "outputs": [
    {
     "name": "stdout",
     "output_type": "stream",
     "text": [
      "STAGE [4] -- TRAINING MODEL -- Logistic Regression ...\n",
      "\n",
      "  -- Done. Took 0.00686999999999 seconds process time to train 84 data points\n",
      "\n",
      "             precision    recall  f1-score   support\n",
      "\n",
      "       BODY       0.95      0.82      0.88        74\n",
      "    SUMMARY       0.35      0.70      0.47        10\n",
      "\n",
      "avg / total       0.88      0.81      0.83        84\n",
      "\n"
     ]
    }
   ],
   "source": [
    "logRegMod, logRegVectorizer = train_and_print_results(features, labels, train_classifier_log_reg)"
   ]
  },
  {
   "cell_type": "markdown",
   "metadata": {},
   "source": [
    "Gaussian Naive Bayes:"
   ]
  },
  {
   "cell_type": "code",
   "execution_count": 28,
   "metadata": {
    "collapsed": false
   },
   "outputs": [
    {
     "name": "stdout",
     "output_type": "stream",
     "text": [
      "STAGE [4] -- TRAINING MODEL -- Gaussian Naive Bayes ...\n",
      " \n",
      "  -- Done. Took 0.00622999999999 seconds process time to train 84 data points\n",
      "\n",
      "             precision    recall  f1-score   support\n",
      "\n",
      "       BODY       1.00      0.09      0.17        74\n",
      "    SUMMARY       0.13      1.00      0.23        10\n",
      "\n",
      "avg / total       0.90      0.20      0.18        84\n",
      "\n"
     ]
    }
   ],
   "source": [
    "gaussianNBMod, gaNBVectorizer = train_and_print_results(features, labels, train_classifier_gaussian_NB)"
   ]
  },
  {
   "cell_type": "code",
   "execution_count": 29,
   "metadata": {
    "collapsed": false
   },
   "outputs": [
    {
     "name": "stdout",
     "output_type": "stream",
     "text": [
      "STAGE [4] -- TRAINING MODEL -- Support Vector Machine (SVM) ...\n",
      " \n",
      "  -- Done. Took 0.00586200000001 seconds process time to train 84 data points\n",
      "\n",
      "             precision    recall  f1-score   support\n",
      "\n",
      "       BODY       0.88      1.00      0.94        74\n",
      "    SUMMARY       0.00      0.00      0.00        10\n",
      "\n",
      "avg / total       0.78      0.88      0.83        84\n",
      "\n"
     ]
    }
   ],
   "source": [
    "SVMMod, SVMVectorizer = train_and_print_results(features, labels, train_classifier_SVM)"
   ]
  },
  {
   "cell_type": "markdown",
   "metadata": {},
   "source": [
    "Based on the above results, we will now chose the model to test with:"
   ]
  },
  {
   "cell_type": "code",
   "execution_count": 32,
   "metadata": {
    "collapsed": false
   },
   "outputs": [],
   "source": [
    "model = logRegMod\n",
    "vectorizer = logRegVectorizer"
   ]
  },
  {
   "cell_type": "markdown",
   "metadata": {},
   "source": [
    "# Test\n",
    "Then, we test on the test data from the testXML folder"
   ]
  },
  {
   "cell_type": "code",
   "execution_count": 20,
   "metadata": {
    "collapsed": false,
    "scrolled": true
   },
   "outputs": [
    {
     "name": "stdout",
     "output_type": "stream",
     "text": [
      "<><><><><><><><><><><><><><><><><><><><><><><><><><><><><><><><><><><><><><><>\n",
      "STAGE [1] -- PARSING XML -- from sample_test_1 ...\n",
      "  -- Done. Took 0.125541 seconds process time for parsing 1 xml file(s). Writing now ...\n",
      "  -- Done. Took 9.99999999998e-05 seconds to write <=2 summary/body file(s)\n",
      "STAGE [2] -- PROCESSING DATA -- (tokenizing/tagging/stopwords/extracting) ...\n",
      "  -- Done. Took 8.139814 seconds process time for processing 1 document(s)\n"
     ]
    }
   ],
   "source": [
    "testDocuments, testLabels = parse_xml_folder(testXMLFolder, summaryFolder, bodyFolder, writeOption='none')\n",
    "testSurfaceFeatures = process_data(testDocuments)"
   ]
  },
  {
   "cell_type": "markdown",
   "metadata": {},
   "source": [
    "Featurize the vectors, then evaluate the model"
   ]
  },
  {
   "cell_type": "code",
   "execution_count": 21,
   "metadata": {
    "collapsed": false,
    "scrolled": false
   },
   "outputs": [
    {
     "name": "stdout",
     "output_type": "stream",
     "text": [
      "STAGE [3] -- FEATURIZING -- (TextRank, LexRank, LDA) ...\n",
      "  -- Done. Took 127.416766 seconds process time to featurize 227 vector(s)\n"
     ]
    }
   ],
   "source": [
    "testFeatures = featurize(testDocuments, testSurfaceFeatures)"
   ]
  },
  {
   "cell_type": "code",
   "execution_count": 35,
   "metadata": {
    "collapsed": false
   },
   "outputs": [
    {
     "name": "stdout",
     "output_type": "stream",
     "text": [
      "STAGE [5] -- TESTING -- Logistic Regression ...\n",
      "  -- Done. Took 0.000326000000001 seconds process time to test 227 data points\n",
      "[ 0.94099617  0.65277778  0.57386364]\n",
      "             precision    recall  f1-score   support\n",
      "\n",
      "       BODY       1.00      0.55      0.71       217\n",
      "    SUMMARY       0.09      1.00      0.17        10\n",
      "\n",
      "avg / total       0.96      0.57      0.69       227\n",
      "\n"
     ]
    }
   ],
   "source": [
    "testFeatureMatrix = vectorizer.transform(testFeatures) # Features = List of counters\n",
    "print evaluate_trained_classifier(model, testFeatureMatrix, testLabels)"
   ]
  },
  {
   "cell_type": "markdown",
   "metadata": {},
   "source": [
    "# ROUGE Analysis \n",
    "To evaluate against ROUGE, we first construct a summary for each document."
   ]
  },
  {
   "cell_type": "code",
   "execution_count": 264,
   "metadata": {
    "collapsed": true
   },
   "outputs": [],
   "source": [
    "def extract_summary(document):\n",
    "    summary = []\n",
    "    for su in document:\n",
    "        if su.label == 'summary':\n",
    "            summary.append(su.text)\n",
    "        else:\n",
    "            break\n",
    "    return summary"
   ]
  },
  {
   "cell_type": "code",
   "execution_count": 265,
   "metadata": {
    "collapsed": false
   },
   "outputs": [],
   "source": [
    "from heapq import nlargest\n",
    "\n",
    "def extract_top_ranked(document, featureMatrix, num):\n",
    "    predictions = model.predict_proba(featureMatrix)\n",
    "    itr = range(len(document))\n",
    "    topIndexes = nlargest(num, itr, key=lambda i: predictions[i][1])\n",
    "    topSentences = [ document[index].text for index in topIndexes]\n",
    "    return topSentences"
   ]
  },
  {
   "cell_type": "markdown",
   "metadata": {},
   "source": [
    "# Run ROUGE\n",
    "Now, we run ROUGE against the gold summaries."
   ]
  },
  {
   "cell_type": "code",
   "execution_count": 266,
   "metadata": {
    "collapsed": false
   },
   "outputs": [],
   "source": [
    "featIndex = 0\n",
    "rouge_gold_summaries = []\n",
    "rouge_generated_summaries = []\n",
    "for i, tdoc in enumerate(testDocuments):\n",
    "    numSentences = len(tdoc)\n",
    "    rouge_gold_summaries.append(extract_summary(tdoc))\n",
    "    rouge_generated_summaries.append(extract_top_ranked(tdoc, testFeatureMatrix[featIndex:featIndex+numSentences], 10))\n",
    "    featIndex += numSentences\n",
    "\n",
    "#print rouge_gold_summaries\n",
    "#print rouge_generated_summaries"
   ]
  },
  {
   "cell_type": "code",
   "execution_count": 267,
   "metadata": {
    "collapsed": true
   },
   "outputs": [],
   "source": [
    "pickle_gold_summaries = {}\n",
    "pickle_generated_summaries = {}\n",
    "for i in range(len(rouge_gold_summaries)):\n",
    "    pickle_gold_summaries[i] = rouge_gold_summaries[i]\n",
    "    pickle_generated_summaries[i] = rouge_generated_summaries[i]"
   ]
  },
  {
   "cell_type": "code",
   "execution_count": 268,
   "metadata": {
    "collapsed": true
   },
   "outputs": [],
   "source": [
    "import pickle\n",
    "pickle.dump( pickle_gold_summaries, open( \"pickle_gold_summaries.p\", \"wb\" ) )\n",
    "pickle.dump( pickle_generated_summaries, open( \"pickle_generated_summaries.p\", \"wb\" ) )"
   ]
  },
  {
   "cell_type": "code",
   "execution_count": 269,
   "metadata": {
    "collapsed": false
   },
   "outputs": [
    {
     "name": "stdout",
     "output_type": "stream",
     "text": [
      "0.39272\n"
     ]
    }
   ],
   "source": [
    "%autoreload\n",
    "from RougeRunner import *\n",
    "\n",
    "rougeResults = []\n",
    "\n",
    "loaded_gold_summaries = pickle.load(open( \"pickle_gold_summaries.p\", \"rb\" ) )\n",
    "loaded_generated_summaries = pickle.load( open( \"pickle_generated_summaries.p\", \"rb\" ) )\n",
    "\n",
    "for summaryIndex in range(len(loaded_gold_summaries)):\n",
    "    gold = loaded_gold_summaries[summaryIndex]\n",
    "    genSum = loaded_generated_summaries[summaryIndex]\n",
    "    rougeResults.append(compareUsingRouge(gold, genSum))\n",
    "        \n",
    "for result in rougeResults:\n",
    "    print result\n",
    "    \n"
   ]
  },
  {
   "cell_type": "code",
   "execution_count": null,
   "metadata": {
    "collapsed": true
   },
   "outputs": [],
   "source": []
  }
 ],
 "metadata": {
  "kernelspec": {
   "display_name": "Python 2",
   "language": "python",
   "name": "python2"
  },
  "language_info": {
   "codemirror_mode": {
    "name": "ipython",
    "version": 2
   },
   "file_extension": ".py",
   "mimetype": "text/x-python",
   "name": "python",
   "nbconvert_exporter": "python",
   "pygments_lexer": "ipython2",
   "version": "2.7.6"
  }
 },
 "nbformat": 4,
 "nbformat_minor": 0
}
