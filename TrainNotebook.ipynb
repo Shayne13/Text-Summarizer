{
 "cells": [
  {
   "cell_type": "code",
   "execution_count": 1,
   "metadata": {
    "collapsed": false
   },
   "outputs": [
    {
     "name": "stdout",
     "output_type": "stream",
     "text": [
      "Summaries all parsed.\n",
      "Bodies all parsed.\n",
      "[[-0.36315273  0.0561008   0.25657988 -0.02525415]]\n",
      "             precision    recall  f1-score   support\n",
      "\n",
      "       BODY       0.95      0.70      0.81      1260\n",
      "    SUMMARY       0.06      0.37      0.11        68\n",
      "\n",
      "avg / total       0.91      0.68      0.77      1328\n",
      "\n"
     ]
    }
   ],
   "source": [
    "from parser import *\n",
    "from trainer import *\n",
    "\n",
    "inputXML = \"sample_rawdata\"\n",
    "outputGold = \"sample_gold\"\n",
    "outputXML = \"sample_train\"\n",
    "\n",
    "# <><><><><><><><><><><><><><><><><><><><><><><><><><><><><><><><>\n",
    "# TRAIN:\n",
    "# <><><><><><><><><><><><><><><><><><><><><><><><><><><><><><><><>\n",
    "\n",
    "summaries, summaryFeatures = parse_folder(inputXML, outputGold, 0)\n",
    "print \"Summaries all parsed.\"\n",
    "articles, bodyFeatures = parse_folder(inputXML, outputXML, 1)\n",
    "print \"Bodies all parsed.\"\n",
    "\n",
    "features, labels = featurize(summaryFeatures, bodyFeatures)\n",
    "model = trainClassifier(features, labels)\n",
    "\n",
    "scores = cross_val_score(model, features, labels, scoring=\"f1_macro\") # accuracy, f1, log_loss\n",
    "print model.coef_\n",
    "predictions = model.predict(features)\n",
    "print metrics.classification_report(labels, predictions)\n",
    "\n",
    "# ---------------------------------------------------------------\n",
    "# RANDOM NOTES:\n",
    "# ---------------------------------------------------------------\n",
    "\n",
    "# INTERMIX FEATURES:\n",
    "# ---------------------------------------------------------------\n",
    "# ['1', '2', '3'] and ['a', 'b', 'c', 'd'] => ['1', 'a', '2', 'b', '3', 'c', 'd']\n",
    "# features = [x for x in itertools.chain.from_iterable(itertools.izip_longest(summaryFeatures, bodyFeatures)) if x]\n",
    "# labels = [x for x in itertools.chain.from_iterable(itertools.izip_longest(summLabels, bodyLabels)) if x]\n"
   ]
  },
  {
   "cell_type": "code",
   "execution_count": 2,
   "metadata": {
    "collapsed": false
   },
   "outputs": [
    {
     "name": "stdout",
     "output_type": "stream",
     "text": [
      "[[(u'John', 'NNP'), (u'Calvin', 'NNP'), (u'(', 'NNP'), (u'French', 'NNP'), (u':', ':'), (u'Jean', 'JJ'), (u'Calvin', 'NNP'), (u',', ','), (u'born', 'NN'), (u'Jehan', 'NNP'), (u'Cauvin', 'NNP'), (u':', ':'), (u'10', 'CD'), (u'July', 'NNP'), (u'1509\\ufffd\\u2013', 'CD'), (u'27', 'CD'), (u'May', 'NNP'), (u'1564', 'CD'), (u')', 'CD'), (u'influential', 'JJ'), (u'French', 'JJ'), (u'theologian', 'NN'), (u'pastor', 'NN'), (u'Protestant', 'NNP'), (u'Reformation', 'NNP'), (u'.', '.')], [(u'He', 'PRP'), (u'principal', 'NN'), (u'figure', 'NN'), (u'development', 'NN'), (u'system', 'NN'), (u'Christian', 'JJ'), (u'theology', 'NN'), (u'later', 'JJ'), (u'called', 'VBN'), (u'Calvinism', 'NNP'), (u'.', '.')], [(u'Originally', 'RB'), (u'trained', 'VBN'), (u'humanist', 'NN'), (u'lawyer', 'NN'), (u',', ','), (u'broke', 'VBD'), (u'Roman', 'JJ'), (u'Catholic', 'NNP'), (u'Church', 'NNP'), (u'around', 'IN'), (u'1530', 'CD'), (u'.', '.')], [(u'After', 'IN'), (u'religious', 'JJ'), (u'tensions', 'NNS'), (u'provoked', 'VBD'), (u'violent', 'NN'), (u'uprising', 'VBG'), (u'Protestants', 'NNS'), (u'France', 'NNP'), (u',', ','), (u'Calvin', 'NNP'), (u'fled', 'VBD'), (u'Basel', 'NNP'), (u',', ','), (u'Switzerland', 'NNP'), (u',', ','), (u'published', 'VBD'), (u'first', 'JJ'), (u'edition', 'NN'), (u'seminal', 'JJ'), (u'work', 'NN'), (u'The', 'DT'), (u'Institutes', 'NNPS'), (u'Christian', 'NNP'), (u'Religion', 'NNP'), (u'1536', 'CD'), (u'.', '.')], [(u'In', 'IN'), (u'year', 'NN'), (u',', ','), (u'Calvin', 'NNP'), (u'recruited', 'VBN'), (u'William', 'NNP'), (u'Farel', 'NNP'), (u'help', 'VB'), (u'reform', 'NN'), (u'church', 'NN'), (u'Geneva', 'NNP'), (u'.', '.')], [(u'The', 'DT'), (u'city', 'NN'), (u'council', 'NN'), (u'resisted', 'VBD'), (u'implementation', 'NN'), (u'Calvin', 'NNP'), (u\"'s\", 'POS'), (u'Farel', 'NNP'), (u\"'s\", 'POS'), (u'ideas', 'NNS'), (u',', ','), (u'men', 'NNS'), (u'expelled', 'VBN'), (u'.', '.')], [(u'At', 'IN'), (u'invitation', 'NN'), (u'Martin', 'NNP'), (u'Bucer', 'NNP'), (u',', ','), (u'Calvin', 'NNP'), (u'proceeded', 'VBD'), (u'Strasbourg', 'NNP'), (u',', ','), (u'became', 'VBD'), (u'minister', 'NN'), (u'church', 'NN'), (u'French', 'JJ'), (u'refugees', 'NNS'), (u'.', '.')], [(u'He', 'PRP'), (u'continued', 'VBD'), (u'support', 'VB'), (u'reform', 'NN'), (u'movement', 'NN'), (u'Geneva', 'NNP'), (u',', ','), (u'eventually', 'RB'), (u'invited', 'VBN'), (u'back', 'RB'), (u'lead', 'VB'), (u'church', 'NN'), (u'.', '.')], [(u'Following', 'VBG'), (u'return', 'NN'), (u',', ','), (u'Calvin', 'NNP'), (u'introduced', 'VBD'), (u'new', 'JJ'), (u'forms', 'NNS'), (u'church', 'NN'), (u'government', 'NN'), (u'liturgy', 'NN'), (u',', ','), (u'despite', 'IN'), (u'opposition', 'NN'), (u'several', 'JJ'), (u'powerful', 'JJ'), (u'families', 'NNS'), (u'city', 'NN'), (u'tried', 'VBD'), (u'curb', 'VB'), (u'authority', 'NN'), (u'.', '.')], [(u'During', 'IN'), (u'period', 'NN'), (u',', ','), (u'Michael', 'NNP'), (u'Servetus', 'NNP'), (u',', ','), (u'Spaniard', 'NNP'), (u'known', 'NN'), (u'heretical', 'JJ'), (u'views', 'NNS'), (u',', ','), (u'arrived', 'VBD'), (u'Geneva', 'NNP'), (u'.', '.')], [(u'He', 'PRP'), (u'denounced', 'VBN'), (u'Calvin', 'NNP'), (u'executed', 'VBD'), (u'city', 'NN'), (u'council', 'NN'), (u'.', '.')], [(u'Following', 'VBG'), (u'influx', 'NN'), (u'supportive', 'JJ'), (u'refugees', 'NNS'), (u'new', 'JJ'), (u'elections', 'NNS'), (u'city', 'NN'), (u'council', 'NN'), (u',', ','), (u'Calvin', 'NNP'), (u\"'s\", 'POS'), (u'opponents', 'NNS'), (u'forced', 'VBN'), (u'.', '.')], [(u'Calvin', 'NNP'), (u'spent', 'VBD'), (u'final', 'JJ'), (u'years', 'NNS'), (u'promoting', 'VBG'), (u'Reformation', 'NNP'), (u'Geneva', 'NNP'), (u'throughout', 'IN'), (u'Europe', 'NNP'), (u'.', '.')], [(u'Calvin', 'NNP'), (u'tireless', 'NN'), (u'polemic', 'JJ'), (u'apologetic', 'JJ'), (u'writer', 'NN'), (u'generated', 'VBN'), (u'much', 'RB'), (u'controversy', 'JJ'), (u'.', '.')], [(u'He', 'PRP'), (u'also', 'RB'), (u'exchanged', 'VBD'), (u'cordial', 'JJ'), (u'supportive', 'JJ'), (u'letters', 'NNS'), (u'many', 'JJ'), (u'reformers', 'NNS'), (u',', ','), (u'including', 'VBG'), (u'Philipp', 'NNP'), (u'Melanchthon', 'NNP'), (u'Heinrich', 'NNP'), (u'Bullinger', 'NNP'), (u'.', '.')], [(u'In', 'IN'), (u'addition', 'NN'), (u'Institutes', 'NNPS'), (u',', ','), (u'wrote', 'VBD'), (u'commentaries', 'NNS'), (u'books', 'NNS'), (u'Bible', 'NNP'), (u',', ','), (u'well', 'RB'), (u'theological', 'JJ'), (u'treatises', 'NNS'), (u'confessional', 'JJ'), (u'documents', 'NNS'), (u'.', '.')], [(u'He', 'PRP'), (u'regularly', 'RB'), (u'preached', 'VBD'), (u'sermons', 'NNS'), (u'throughout', 'IN'), (u'week', 'NN'), (u'Geneva', 'NNP'), (u'.', '.')], [(u'Calvin', 'NNP'), (u'influenced', 'VBN'), (u'Augustinian', 'NNP'), (u'tradition', 'NN'), (u',', ','), (u'led', 'VBN'), (u'expound', 'VB'), (u'doctrine', 'NN'), (u'predestination', 'NN'), (u'absolute', 'JJ'), (u'sovereignty', 'NN'), (u'God', 'NNP'), (u'salvation', 'NN'), (u'human', 'JJ'), (u'soul', 'NN'), (u'death', 'NN'), (u'eternal', 'JJ'), (u'damnation', 'NN'), (u'.', '.')], [(u'Calvin', 'NNP'), (u\"'s\", 'POS'), (u'writing', 'NN'), (u'preachings', 'NNS'), (u'provided', 'VBN'), (u'seeds', 'NNS'), (u'branch', 'NN'), (u'theology', 'NN'), (u'bears', 'NNS'), (u'name', 'NN'), (u'.', '.')], [(u'The', 'DT'), (u'Reformed', 'NNP'), (u'Presbyterian', 'NNP'), (u'churches', 'NNS'), (u',', ','), (u'look', 'NN'), (u'Calvin', 'NNP'), (u'chief', 'NN'), (u'expositor', 'NN'), (u'beliefs', 'NNS'), (u',', ','), (u'spread', 'VBN'), (u'throughout', 'IN'), (u'world', 'NN'), (u'.', '.')]]\n"
     ]
    }
   ],
   "source": [
    "print summaries[0]"
   ]
  },
  {
   "cell_type": "code",
   "execution_count": null,
   "metadata": {
    "collapsed": true
   },
   "outputs": [],
   "source": []
  }
 ],
 "metadata": {
  "kernelspec": {
   "display_name": "Python 2",
   "language": "python",
   "name": "python2"
  },
  "language_info": {
   "codemirror_mode": {
    "name": "ipython",
    "version": 2
   },
   "file_extension": ".py",
   "mimetype": "text/x-python",
   "name": "python",
   "nbconvert_exporter": "python",
   "pygments_lexer": "ipython2",
   "version": "2.7.6"
  }
 },
 "nbformat": 4,
 "nbformat_minor": 0
}
