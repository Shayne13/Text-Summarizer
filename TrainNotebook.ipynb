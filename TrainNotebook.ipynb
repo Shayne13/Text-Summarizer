{
 "cells": [
  {
   "cell_type": "code",
   "execution_count": 1,
   "metadata": {
    "collapsed": false
   },
   "outputs": [
    {
     "name": "stdout",
     "output_type": "stream",
     "text": [
      "[[-0.86583763 -0.55115741 -0.34666849 -0.60153333]]\n",
      "             precision    recall  f1-score   support\n",
      "\n",
      "       BODY       0.95      1.00      0.97      1260\n",
      "    SUMMARY       0.00      0.00      0.00        68\n",
      "\n",
      "avg / total       0.90      0.95      0.92      1328\n",
      "\n"
     ]
    },
    {
     "name": "stderr",
     "output_type": "stream",
     "text": [
      "/Library/Python/2.7/site-packages/sklearn/metrics/classification.py:958: UndefinedMetricWarning: F-score is ill-defined and being set to 0.0 in labels with no predicted samples.\n",
      "  'precision', 'predicted', average, warn_for)\n",
      "/Library/Python/2.7/site-packages/sklearn/metrics/classification.py:958: UndefinedMetricWarning: Precision and F-score are ill-defined and being set to 0.0 in labels with no predicted samples.\n",
      "  'precision', 'predicted', average, warn_for)\n"
     ]
    }
   ],
   "source": [
    "from parser import *\n",
    "from trainer import *\n",
    "\n",
    "inputXML = \"sample_rawdata\"\n",
    "outputGold = \"sample_gold\"\n",
    "outputXML = \"sample_train\"\n",
    "    \n",
    "# <><><><><><><><><><><><><><><><><><><><><><><><><><><><><><><><>\n",
    "# TRAIN:\n",
    "# <><><><><><><><><><><><><><><><><><><><><><><><><><><><><><><><>\n",
    "\n",
    "summaries, summaryFeatures = parse_folder(inputXML, outputGold, 0)\n",
    "articles, bodyFeatures = parse_folder(inputXML, outputXML, 1)\n",
    "\n",
    "features, labels = featurize(summaryFeatures, bodyFeatures)\n",
    "model = trainClassifier(features, labels)\n",
    "\n",
    "scores = cross_val_score(model, features, labels, scoring=\"f1_macro\") # accuracy, f1, log_loss\n",
    "print model.coef_\n",
    "predictions = model.predict(features)\n",
    "print metrics.classification_report(labels, predictions)\n",
    "\n",
    "# ---------------------------------------------------------------\n",
    "# RANDOM NOTES:\n",
    "# ---------------------------------------------------------------\n",
    "\n",
    "# INTERMIX FEATURES:\n",
    "# ---------------------------------------------------------------\n",
    "# ['1', '2', '3'] and ['a', 'b', 'c', 'd'] => ['1', 'a', '2', 'b', '3', 'c', 'd']\n",
    "# features = [x for x in itertools.chain.from_iterable(itertools.izip_longest(summaryFeatures, bodyFeatures)) if x]\n",
    "# labels = [x for x in itertools.chain.from_iterable(itertools.izip_longest(summLabels, bodyLabels)) if x]\n"
   ]
  },
  {
   "cell_type": "code",
   "execution_count": 2,
   "metadata": {
    "collapsed": false
   },
   "outputs": [
    {
     "name": "stdout",
     "output_type": "stream",
     "text": [
      "20\n"
     ]
    }
   ],
   "source": [
    "print len(summaries[0])"
   ]
  },
  {
   "cell_type": "code",
   "execution_count": 3,
   "metadata": {
    "collapsed": false
   },
   "outputs": [
    {
     "name": "stdout",
     "output_type": "stream",
     "text": [
      "20\n"
     ]
    }
   ],
   "source": [
    "print len(summaryFeatures[0])"
   ]
  },
  {
   "cell_type": "code",
   "execution_count": null,
   "metadata": {
    "collapsed": true
   },
   "outputs": [],
   "source": []
  }
 ],
 "metadata": {
  "kernelspec": {
   "display_name": "Python 2",
   "language": "python",
   "name": "python2"
  },
  "language_info": {
   "codemirror_mode": {
    "name": "ipython",
    "version": 2
   },
   "file_extension": ".py",
   "mimetype": "text/x-python",
   "name": "python",
   "nbconvert_exporter": "python",
   "pygments_lexer": "ipython2",
   "version": "2.7.6"
  }
 },
 "nbformat": 4,
 "nbformat_minor": 0
}
