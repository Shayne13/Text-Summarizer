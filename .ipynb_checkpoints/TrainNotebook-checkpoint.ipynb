{
 "cells": [
  {
   "cell_type": "code",
   "execution_count": 1,
   "metadata": {
    "collapsed": false
   },
   "outputs": [],
   "source": [
    "from parser import *\n",
    "\n",
    "import itertools\n",
    "import random\n",
    "import pickle\n",
    "import numpy as np\n",
    "from operator import itemgetter\n",
    "from collections import Counter\n",
    "from itertools import izip\n",
    "import scipy\n",
    "import scipy.spatial.distance\n",
    "from numpy.linalg import svd\n",
    "from sklearn.cluster import AffinityPropagation\n",
    "from collections import defaultdict\n",
    "from sklearn.feature_selection import RFE\n",
    "from sklearn.feature_extraction import DictVectorizer\n",
    "from sklearn.feature_selection import SelectFpr, chi2\n",
    "from sklearn.linear_model import LogisticRegression\n",
    "from sklearn.grid_search import GridSearchCV\n",
    "from sklearn.cross_validation import cross_val_score\n",
    "from sklearn import metrics"
   ]
  },
  {
   "cell_type": "code",
   "execution_count": 2,
   "metadata": {
    "collapsed": false
   },
   "outputs": [],
   "source": [
    "from summanlp_textrank import commons, graph, keywords, pagerank_weighted, \\\n",
    "                  summarizer, textrank, textcleaner, textrank_runtime_error"
   ]
  },
  {
   "cell_type": "code",
   "execution_count": 3,
   "metadata": {
    "collapsed": true
   },
   "outputs": [],
   "source": [
    "inputXML = \"sample_1\"\n",
    "# inputXML = \"sample_rawXML\"\n",
    "summaryFolder = \"sample_summary\"\n",
    "bodyFolder = \"sample_body\""
   ]
  },
  {
   "cell_type": "code",
   "execution_count": 4,
   "metadata": {
    "collapsed": false
   },
   "outputs": [
    {
     "name": "stdout",
     "output_type": "stream",
     "text": [
      "<><><><><><><><><><><><><><><><><><><><><><><><><><><><><><><><><><><><><><><>\n",
      "STAGE [1] -- PARSING XML -- from sample_1 ...\n",
      "STAGE [2] -- PROCESSING DATA -- (tokenizing/tagging/stopwords/extracting) ...\n"
     ]
    }
   ],
   "source": [
    "# <><><><><><><><><><><><><><><><><><><><><><><><><><><><><><><><><><><><><><><><><>\n",
    "# PARSE:\n",
    "# <><><><><><><><><><><><><><><><><><><><><><><><><><><><><><><><><><><><><><><><><>\n",
    "documents, labels = parse_xml_folder(inputXML, summaryFolder, bodyFolder, writeOption='none')\n",
    "surfaceFeatures = process_data(documents)"
   ]
  },
  {
   "cell_type": "code",
   "execution_count": 5,
   "metadata": {
    "collapsed": true
   },
   "outputs": [],
   "source": [
    "def featurize(documents, surfaceFeatures):\n",
    "    print \"STAGE [3] -- FEATURIZING -- (TextRank, LexRank, LDA) ...\"\n",
    "    features = []\n",
    "    for docIndex, doc in enumerate(documents):\n",
    "        documentFeatures = extract_document_wide_features(doc)\n",
    "        documentFeatures.append(surfaceFeatures[docIndex])\n",
    "        features += [ counter_sum(fl) for fl in izip(*documentFeatures) ]\n",
    "    return features"
   ]
  },
  {
   "cell_type": "code",
   "execution_count": 6,
   "metadata": {
    "collapsed": true
   },
   "outputs": [],
   "source": [
    "def extract_document_wide_features(document):\n",
    "    documentFeatures = []\n",
    "\n",
    "    documentFeatures.append(textrank_keyphrase(document))\n",
    "    documentFeatures.append(lexrank_keyphrase(document))\n",
    "\n",
    "    txt = ' '.join([ su.text for su in document ])\n",
    "    keyWords = textrank_keyword(txt)\n",
    "    print keyWords\n",
    "\n",
    "    return documentFeatures"
   ]
  },
  {
   "cell_type": "code",
   "execution_count": 7,
   "metadata": {
    "collapsed": true
   },
   "outputs": [],
   "source": [
    "def counter_sum(counterTuple):\n",
    "    counterSum = Counter()\n",
    "    for ele in counterTuple:\n",
    "        counterSum += ele\n",
    "    return counterSum"
   ]
  },
  {
   "cell_type": "code",
   "execution_count": 8,
   "metadata": {
    "collapsed": true
   },
   "outputs": [],
   "source": [
    "def textrank_keyphrase(text):\n",
    "\n",
    "    # Creates the graph and calculates the similarity coefficient for every pair of nodes.\n",
    "    graph = commons.build_graph([ syntacticUnit for syntacticUnit in text])\n",
    "    summarizer._set_graph_edge_weights(graph)\n",
    "    # Remove all nodes with all edges weights equal to zero.\n",
    "    commons.remove_unreachable_nodes(graph)\n",
    "\n",
    "    # Ranks the tokens using the PageRank algorithm. Returns dict of sentence -> score\n",
    "    pagerank_scores = summarizer._pagerank(graph)\n",
    "\n",
    "    # Adds the summa scores to the sentence objects.\n",
    "    # summarizer._add_scores_to_sentences(sentences, pagerank_scores)\n",
    "\n",
    "    results = []\n",
    "    for su in text:\n",
    "        score = (1-pagerank_scores[su.label, su.index]) if (su.label, su.index) in pagerank_scores.keys() else 0.0\n",
    "        results.append(Counter({ 'TEXTRANK_SCORE': score }))\n",
    "    return results"
   ]
  },
  {
   "cell_type": "code",
   "execution_count": 9,
   "metadata": {
    "collapsed": true
   },
   "outputs": [],
   "source": [
    "def textrank_keyword(text):\n",
    "    # Gets a dict of word -> lemma\n",
    "    tokens = textcleaner.clean_text_by_word(text, 'english')\n",
    "    print '******************'\n",
    "    split_text = list(textcleaner.tokenize_by_word(text))\n",
    "    print split_text[0:6]\n",
    "    print '******************'\n",
    "    # Creates the graph and adds the edges\n",
    "    graph = commons.build_graph(keywords._get_words_for_graph(tokens))\n",
    "    keywords._set_graph_edges(graph, tokens, split_text)\n",
    "    del split_text # It's no longer used\n",
    "    commons.remove_unreachable_nodes(graph)\n",
    "\n",
    "    # Ranks the tokens using the PageRank algorithm. Returns dict of lemma -> score\n",
    "    pagerank_scores = keywords._pagerank(graph)\n",
    "\n",
    "    extracted_lemmas = keywords._extract_tokens(graph.nodes(), pagerank_scores, ratio, words)\n",
    "    print extracted_lemmas\n",
    "    print '******************'\n",
    "    lemmas_to_word = keywords._lemmas_to_words(tokens)\n",
    "    print lemmas_to_words\n",
    "    print '******************'\n",
    "    keyWords = keywords._get_keywords_with_score(extracted_lemmas, lemmas_to_word)\n",
    "\n",
    "    # text.split() to keep numbers and punctuation marks, so separeted concepts are not combined\n",
    "    combined_keywords = keywords._get_combined_keywords(keyWords, text.split())\n",
    "\n",
    "    return keywords._format_results(keyWords, combined_keywords, split, scores)"
   ]
  },
  {
   "cell_type": "code",
   "execution_count": 10,
   "metadata": {
    "collapsed": true
   },
   "outputs": [],
   "source": [
    "def lexrank_keyphrase(text):\n",
    "    results = []\n",
    "    for i in range(len(text)):\n",
    "        results.append(Counter({ 'LEXRANK_SCORE': 0.0 }))\n",
    "    return results"
   ]
  },
  {
   "cell_type": "code",
   "execution_count": 11,
   "metadata": {
    "collapsed": true
   },
   "outputs": [],
   "source": [
    "def train_classifier(features, labels):\n",
    "    print \"STAGE [4] -- TRAINING MODEL -- Logistic Regression ...\"\n",
    "    print '<><><><><><><><><><><><><><><><><><><><><><><><><><><><><><><><><><><><><><><>'\n",
    "    vectorizer = DictVectorizer(sparse=False)\n",
    "    feature_matrix = vectorizer.fit_transform(features) # Features = List of counters\n",
    "    mod = LogisticRegression(fit_intercept=True, intercept_scaling=1, class_weight='auto')\n",
    "    mod.fit_transform(feature_matrix, labels)\n",
    "    return mod, feature_matrix"
   ]
  },
  {
   "cell_type": "code",
   "execution_count": 16,
   "metadata": {
    "collapsed": false
   },
   "outputs": [
    {
     "name": "stdout",
     "output_type": "stream",
     "text": [
      "[u'jrr', u'tolkien', u's', u'the', u'lord', u'of', u'the', u'rings', u'is', u'a', u'american', u'fantasy', u'film', u'directed', u'by', u'ralph', u'bakshi', u'it', u'uses', u'a', u'hybrid', u'of', u'traditional', u'cel', u'animation', u'and', u'rotoscoped', u'live', u'action', u'footage', u'it', u'is', u'an', u'adaptation', u'of', u'the', u'first', u'half', u'of', u'the', u'high', u'fantasy', u'epic', u'the', u'lord', u'of', u'the', u'rings', u'by', u'english', u'novelist', u'j', u'r', u'r', u'tolkien', u'set', u'in', u'middle', u'earth', u'the', u'film', u'follows', u'a', u'group', u'of', u'hobbits', u'elves', u'men', u'dwarves', u'and', u'wizards', u'who', u'form', u'a', u'fellowship', u'they', u'embark', u'on', u'a', u'quest', u'to', u'destroy', u'the', u'one', u'ring', u'made', u'by', u'the', u'dark', u'lord', u'sauron', u'and', u'ensure', u'his', u'destruction', u'the', u'film', u'features', u'the', u'voices', u'of', u'william', u'squire', u'john', u'hurt', u'michael', u'graham', u'cox', u'and', u'anthony', u'daniels', u'of', u'star', u'wars', u'fame', u'and', u'was', u'one', u'of', u'the', u'first', u'animated', u'films', u'to', u'be', u'presented', u'theatrically', u'in', u'the', u'dolby', u'stereo', u'sound', u'system', u'the', u'screenplay', u'was', u'written', u'by', u'peter', u's', u'beagle', u'based', u'on', u'an', u'earlier', u'draft', u'by', u'chris', u'conkling', u'director', u'ralph', u'bakshi', u'encountered', u'tolkien', u's', u'writing', u'early', u'in', u'his', u'career', u'and', u'had', u'made', u'several', u'attempts', u'to', u'produce', u'the', u'lord', u'of', u'the', u'rings', u'as', u'an', u'animated', u'film', u'before', u'being', u'given', u'funding', u'by', u'producer', u'saul', u'zaentz', u'and', u'distributor', u'united', u'artists', u'the', u'film', u'is', u'notable', u'for', u'its', u'extensive', u'use', u'of', u'rotoscoping', u'a', u'technique', u'in', u'which', u'scenes', u'are', u'first', u'shot', u'in', u'live', u'action', u'then', u'traced', u'onto', u'animation', u'cels', u'although', u'the', u'film', u'was', u'a', u'financial', u'success', u'it', u'received', u'a', u'mixed', u'reaction', u'from', u'critics', u'and', u'there', u'was', u'no', u'sequel', u'to', u'cover', u'the', u'remainder', u'of', u'the', u'story', u'nonetheless', u'the', u'film', u'was', u'an', u'influence', u'on', u'peter', u'jackson', u'who', u'details', u'his', u'debt', u'in', u'the', u'extras', u'of', u'the', u'dvd', u'to', u'the', u'lord', u'of', u'the', u'rings', u'the', u'fellowship', u'of', u'the', u'ring', u'early', u'in', u'the', u'second', u'age', u'of', u'middle', u'earth', u'elven', u'smiths', u'forged', u'nine', u'rings', u'of', u'power', u'for', u'mortal', u'men', u'seven', u'for', u'the', u'dwarf', u'lords', u'and', u'three', u'for', u'the', u'elf', u'kings', u'at', u'the', u'same', u'time', u'the', u'dark', u'lord', u'sauron', u'made', u'the', u'one', u'ring', u'to', u'rule', u'them', u'all', u'after', u'learning', u'the', u'secrets', u'of', u'how', u'to', u'forge', u'them', u'from', u'the', u'elves', u'of', u'hollin', u'a', u'deviation', u'from', u'tolkien', u's', u'work', u'in', u'which', u'sauron', u'taught', u'ring', u'lore', u'to', u'the', u'elves', u'and', u'forged', u'all', u'the', u'rings', u'except', u'the', u'three', u'elvish', u'rings', u'as', u'the', u'last', u'alliance', u'of', u'elves', u'and', u'men', u'fell', u'the', u'ring', u'fell', u'into', u'the', u'hands', u'of', u'prince', u'isildur', u'from', u'across', u'the', u'sea', u'and', u'after', u'isildur', u'was', u'killed', u'by', u'orcs', u'the', u'ring', u'lay', u'at', u'the', u'bottom', u'of', u'the', u'river', u'anduin', u'over', u'time', u'sauron', u'captured', u'the', u'nine', u'rings', u'made', u'for', u'men', u'and', u'turned', u'their', u'owners', u'into', u'the', u'ringwraiths', u'terrible', u'beings', u'who', u'roamed', u'the', u'world', u'searching', u'for', u'the', u'one', u'ring', u'the', u'ring', u'was', u'found', u'by', u'a', u'stoor', u'named', u'deagol', u'whose', u'friend', u'smeagol', u'murdered', u'him', u'and', u'stole', u'it', u'for', u'himself', u'the', u'ring', u'warped', u'smeagol', u'into', u'a', u'twisted', u'gurgling', u'wretch', u'known', u'only', u'as', u'gollum', u'peter', u'woodthorpe', u'and', u'he', u'wandered', u'with', u'it', u'to', u'a', u'cave', u'in', u'the', u'misty', u'mountains', u'hundreds', u'of', u'years', u'later', u'the', u'hobbit', u'bilbo', u'baggins', u'norman', u'bird', u'accidentally', u'discovered', u'his', u'precious', u'ring', u'and', u'took', u'it', u'back', u'with', u'him', u'to', u'the', u'shire', u'years', u'later', u'during', u'bilbo', u's', u'birthday', u'celebrations', u'in', u'the', u'shire', u'the', u'wizard', u'gandalf', u'william', u'squire', u'tells', u'him', u'to', u'leave', u'the', u'ring', u'for', u'frodo', u'baggins', u'christopher', u'guard', u'bilbo', u'agrees', u'and', u'leaves', u'the', u'shire', u'seventeen', u'years', u'pass', u'during', u'which', u'gandalf', u'learns', u'that', u'the', u'shire', u'is', u'in', u'danger', u'evil', u'forces', u'have', u'discovered', u'that', u'the', u'ring', u'is', u'in', u'the', u'possession', u'of', u'a', u'baggins', u'gandalf', u'meets', u'with', u'frodo', u'to', u'explain', u'the', u'ring', u's', u'history', u'and', u'the', u'danger', u'it', u'poses', u'to', u'all', u'of', u'middle', u'earth', u'frodo', u'leaves', u'his', u'home', u'taking', u'the', u'ring', u'with', u'him', u'he', u'is', u'accompanied', u'by', u'three', u'hobbit', u'friends', u'pippin', u'dominic', u'guard', u'merry', u'simon', u'chandler', u'and', u'sam', u'michael', u'scholes', u'after', u'a', u'narrow', u'escape', u'from', u'the', u'ringwraiths', u'pursuing', u'them', u'the', u'hobbits', u'eventually', u'come', u'to', u'bree', u'where', u'they', u'meet', u'aragorn', u'john', u'hurt', u'who', u'is', u'first', u'introduced', u'to', u'them', u'as', u'strider', u'a', u'friend', u'of', u'gandalf', u's', u'who', u'leads', u'them', u'the', u'rest', u'of', u'the', u'way', u'to', u'rivendell', u'frodo', u'is', u'stabbed', u'atop', u'weathertop', u'mountain', u'by', u'the', u'chief', u'of', u'the', u'ringwraiths', u'with', u'a', u'knife', u'imbued', u'with', u'evil', u'magic', u'part', u'of', u'the', u'knife', u'stays', u'inside', u'him', u'and', u'he', u'gets', u'sicker', u'as', u'the', u'journey', u'progresses', u'the', u'ringwraiths', u'catch', u'up', u'with', u'them', u'shortly', u'after', u'they', u'meet', u'the', u'elf', u'legolas', u'anthony', u'daniels', u'and', u'at', u'a', u'standoff', u'at', u'the', u'ford', u'of', u'rivendell', u'the', u'ringwraiths', u'are', u'swept', u'away', u'by', u'the', u'enchanted', u'river', u'at', u'rivendell', u'frodo', u'is', u'healed', u'by', u'its', u'lord', u'elrond', u'he', u'meets', u'gandalf', u'again', u'held', u'captive', u'by', u'his', u'fellow', u'wizard', u'saruman', u'fraser', u'kerr', u'who', u'plans', u'to', u'join', u'with', u'sauron', u'but', u'also', u'wants', u'the', u'ring', u'for', u'himself', u'bilbo', u'gandalf', u'and', u'the', u'others', u'argue', u'about', u'what', u'should', u'be', u'done', u'with', u'the', u'one', u'ring', u'and', u'frodo', u'volunteers', u'to', u'go', u'to', u'mordor', u'where', u'the', u'ring', u'can', u'be', u'destroyed', u'frodo', u'sets', u'off', u'from', u'rivendell', u'with', u'eight', u'companions', u'gandalf', u'aragorn', u'boromir', u'son', u'of', u'the', u'steward', u'of', u'gondor', u'michael', u'graham', u'cox', u'legolas', u'gimli', u'the', u'dwarf', u'david', u'buck', u'and', u'frodo', u's', u'original', u'three', u'hobbit', u'companions', u'their', u'attempt', u'to', u'cross', u'the', u'misty', u'mountains', u'is', u'foiled', u'by', u'heavy', u'snow', u'and', u'they', u'are', u'forced', u'to', u'take', u'a', u'path', u'under', u'the', u'mountains', u'via', u'moria', u'moria', u'was', u'an', u'ancient', u'dwarf', u'kingdom', u'but', u'is', u'now', u'full', u'of', u'orcs', u'and', u'other', u'evil', u'creatures', u'and', u'gandalf', u'falls', u'into', u'an', u'abyss', u'while', u'battling', u'a', u'balrog', u'the', u'remaining', u'eight', u'members', u'of', u'the', u'fellowship', u'continue', u'through', u'the', u'elf', u'haven', u'lothlorien', u'but', u'boromir', u'tries', u'to', u'take', u'the', u'ring', u'from', u'frodo', u'frodo', u'decides', u'to', u'leave', u'the', u'others', u'behind', u'and', u'continue', u'his', u'quest', u'alone', u'although', u'faithful', u'sam', u'insists', u'on', u'accompanying', u'him', u'boromir', u'is', u'killed', u'by', u'orcs', u'while', u'trying', u'to', u'defend', u'merry', u'and', u'pippin', u'they', u'are', u'captured', u'by', u'the', u'orcs', u'who', u'intend', u'to', u'take', u'them', u'to', u'isengard', u'through', u'the', u'land', u'of', u'rohan', u'the', u'hobbits', u'escape', u'and', u'flee', u'into', u'fangorn', u'forest', u'where', u'they', u'meet', u'treebeard', u'john', u'westbrook', u'a', u'huge', u'tree', u'like', u'creature', u'aragorn', u'gimli', u'and', u'legolas', u'find', u'merry', u'and', u'pippin', u'they', u'find', u'small', u'footprints', u'and', u'follow', u'them', u'into', u'fangorn', u'forest', u'there', u'they', u'find', u'gandalf', u'whom', u'they', u'believed', u'had', u'died', u'in', u'the', u'mines', u'of', u'moria', u'the', u'four', u'ride', u'to', u'rohan', u's', u'capital', u'edoras', u'where', u'gandalf', u'persuades', u'king', u'theoden', u'philip', u'stone', u'that', u'his', u'people', u'are', u'in', u'danger', u'aragorn', u'gimli', u'and', u'legolas', u'then', u'travel', u'to', u'the', u'defensive', u'fortification', u'helm', u's', u'deep', u'frodo', u'and', u'sam', u'meanwhile', u'discover', u'gollum', u'stalking', u'them', u'and', u'capture', u'him', u'frodo', u'pities', u'him', u'and', u'lets', u'him', u'live', u'in', u'return', u'for', u'guidance', u'to', u'mount', u'doom', u'gollum', u'promises', u'to', u'lead', u'them', u'to', u'a', u'secret', u'entrance', u'to', u'mordor', u'at', u'helm', u's', u'deep', u'theoden', u's', u'forces', u'struggle', u'to', u'resist', u'an', u'onslaught', u'of', u'orcs', u'sent', u'by', u'saruman', u'gandalf', u'arrives', u'the', u'next', u'morning', u'with', u'the', u'riders', u'of', u'rohan', u'just', u'in', u'time', u'destroying', u'the', u'orc', u'army', u'director', u'ralph', u'bakshi', u'was', u'introduced', u'to', u'the', u'lord', u'of', u'the', u'rings', u'during', u'the', u'mid', u's', u'while', u'working', u'as', u'an', u'animator', u'for', u'terrytoons', u'in', u'the', u'young', u'animator', u'started', u'trying', u'to', u'convince', u'people', u'that', u'the', u'story', u'could', u'be', u'told', u'in', u'animation', u'in', u'the', u'rights', u'were', u'passed', u'to', u'united', u'artists', u'where', u'filmmakers', u'stanley', u'kubrick', u'and', u'john', u'boorman', u'each', u'tried', u'to', u'adapt', u'the', u'story', u'contrary', u'to', u'urban', u'legend', u'disney', u'never', u'owned', u'the', u'rights', u'in', u'the', u'mid', u's', u'bakshi', u'who', u'had', u'since', u'achieved', u'box', u'office', u'success', u'producing', u'adult', u'oriented', u'animated', u'films', u'such', u'as', u'fritz', u'the', u'cat', u'learned', u'of', u'ua', u'and', u'boorman', u's', u'attempts', u'to', u'adapt', u'the', u'story', u'he', u'was', u'told', u'that', u'boorman', u'had', u'planned', u'to', u'produce', u'all', u'three', u'parts', u'of', u'the', u'lord', u'of', u'the', u'rings', u'as', u'a', u'single', u'film', u'and', u'commented', u'i', u'thought', u'that', u'was', u'madness', u'certainly', u'a', u'lack', u'of', u'character', u'on', u'boorman', u's', u'part', u'why', u'would', u'you', u'want', u'to', u'tamper', u'with', u'anything', u'tolkien', u'did', u'when', u'boorman', u's', u'proposed', u'adaptation', u'fell', u'apart', u'bakshi', u'approached', u'the', u'studio', u'and', u'proposed', u'that', u'he', u'direct', u'a', u'three', u'part', u'animated', u'film', u'adaptation', u'of', u'the', u'book', u'the', u'metro', u'goldwyn', u'mayer', u'office', u'was', u'located', u'in', u'the', u'same', u'building', u'and', u'bakshi', u'spoke', u'to', u'then', u'president', u'dan', u'melnick', u'i', u'thought', u'he', u'would', u'understand', u'what', u'the', u'rings', u'meant', u'because', u'ua', u'did', u'not', u'bakshi', u'and', u'melnick', u'made', u'a', u'deal', u'with', u'mike', u'medavoy', u'at', u'united', u'artists', u'to', u'buy', u'the', u'boorman', u'script', u'the', u'boorman', u'script', u'cost', u'million', u'so', u'boorman', u'was', u'happy', u'by', u'the', u'pool', u'screaming', u'and', u'laughing', u'and', u'drinking', u'cause', u'he', u'got', u'million', u'for', u'his', u'script', u'to', u'be', u'thrown', u'out', u'however', u'after', u'melnick', u'was', u'fired', u'from', u'mgm', u'the', u'deal', u'fell', u'through', u'bakshi', u'then', u'contacted', u'saul', u'zaentz', u'who', u'had', u'helped', u'finance', u'fritz', u'the', u'cat', u'to', u'ask', u'him', u'to', u'produce', u'the', u'lord', u'of', u'the', u'rings', u'and', u'zaentz', u'agreed', u'before', u'the', u'production', u'started', u'the', u'original', u'three', u'part', u'adaptation', u'was', u'negotiated', u'down', u'to', u'two', u'parts', u'at', u'united', u'artists', u'and', u'bakshi', u'met', u'with', u'tolkien', u's', u'daughter', u'priscilla', u'to', u'discuss', u'how', u'the', u'film', u'would', u'be', u'made', u'she', u'showed', u'him', u'the', u'room', u'where', u'her', u'father', u'did', u'his', u'writing', u'and', u'drawing', u'bakshi', u'says', u'my', u'promise', u'to', u'tolkien', u's', u'daughter', u'was', u'to', u'be', u'pure', u'to', u'the', u'book', u'i', u'wasn', u't', u'going', u'to', u'say', u'hey', u'throw', u'out', u'gollum', u'and', u'change', u'these', u'two', u'characters', u'my', u'job', u'was', u'to', u'say', u'this', u'is', u'what', u'the', u'genius', u'said', u'ralph', u'bakshi', u'said', u'that', u'one', u'of', u'the', u'problems', u'with', u'the', u'production', u'was', u'that', u'the', u'film', u'was', u'an', u'epic', u'because', u'epics', u'tend', u'to', u'drag', u'the', u'biggest', u'challenge', u'was', u'to', u'be', u'true', u'to', u'the', u'book', u'when', u'asked', u'what', u'he', u'was', u'trying', u'to', u'accomplish', u'with', u'the', u'film', u'bakshi', u'stated', u'the', u'goal', u'was', u'to', u'bring', u'as', u'much', u'quality', u'as', u'possible', u'to', u'the', u'work', u'i', u'wanted', u'real', u'illustration', u'as', u'opposed', u'to', u'cartoons', u'bakshi', u'said', u'that', u'descriptions', u'of', u'the', u'characters', u'were', u'not', u'included', u'because', u'they', u'are', u'seen', u'in', u'the', u'film', u'bakshi', u's', u'major', u'artistic', u'influences', u'on', u'the', u'film', u'were', u'classical', u'illustrators', u'such', u'as', u'howard', u'pyle', u'and', u'n', u'c', u'wyeth', u'he', u'stated', u'that', u'no', u'contemporary', u'illustrators', u'were', u'an', u'influence', u'on', u'the', u'style', u'of', u'the', u'film', u'an', u'early', u'draft', u'of', u'the', u'screenplay', u'was', u'written', u'by', u'chris', u'conkling', u'who', u'told', u'the', u'bulk', u'of', u'the', u'story', u'in', u'flashback', u'from', u'merry', u'brandybuck', u's', u'point', u'of', u'view', u'after', u'bakshi', u'and', u'zaentz', u'saw', u'conkling', u's', u'first', u'draft', u'fantasy', u'author', u'peter', u's', u'beagle', u'was', u'called', u'in', u'for', u'a', u'rewrite', u'according', u'to', u'the', u'website', u'of', u'publisher', u'conlan', u'press', u'beagle', u'wrote', u'multiple', u'drafts', u'of', u'the', u'script', u'for', u'only', u'on', u'the', u'strength', u'of', u'promises', u'from', u'saul', u'zaentz', u'to', u'hire', u'him', u'for', u'other', u'better', u'paying', u'projects', u'afterward', u'zaentz', u'later', u'reneged', u'on', u'these', u'promises', u'the', u'film', u'makes', u'some', u'deviations', u'from', u'the', u'book', u'but', u'overall', u'follows', u'tolkien', u's', u'narrative', u'quite', u'closely', u'of', u'the', u'adaptation', u'process', u'bakshi', u'stated', u'that', u'elements', u'of', u'the', u'story', u'had', u'to', u'be', u'left', u'out', u'but', u'nothing', u'in', u'the', u'story', u'was', u'really', u'altered', u'the', u'film', u'greatly', u'condenses', u'frodo', u's', u'journey', u'from', u'bag', u'end', u'to', u'bree', u'stop', u'overs', u'at', u'farmer', u'maggot', u's', u'house', u'frodo', u's', u'home', u'in', u'buckland', u'and', u'the', u'house', u'of', u'the', u'mysterious', u'tom', u'bombadil', u'deep', u'in', u'the', u'old', u'forest', u'are', u'omitted', u'maggot', u'and', u'his', u'family', u'and', u'bombadil', u'and', u'his', u'wife', u'goldberry', u'are', u'thus', u'all', u'omitted', u'along', u'with', u'fatty', u'bolger', u'a', u'hobbit', u'who', u'accompanied', u'frodo', u'at', u'the', u'beginning', u'according', u'to', u'bakshi', u'the', u'character', u'of', u'tom', u'bombadil', u'was', u'dropped', u'because', u'he', u'didn', u't', u'move', u'the', u'story', u'along', u'some', u'changes', u'were', u'cosmetic', u'in', u'nature', u'for', u'example', u'saruman', u'the', u'white', u'adopts', u'the', u'title', u'saruman', u'of', u'many', u'colours', u'as', u'in', u'tolkien', u's', u'novel', u'in', u'it', u'he', u'initially', u'wore', u'white', u'but', u'modified', u'his', u'robe', u'however', u'in', u'the', u'film', u'his', u'robes', u'are', u'neither', u'white', u'nor', u'multicoloured', u'but', u'are', u'in', u'different', u'shades', u'of', u'red', u'legolas', u'wears', u'silver', u'and', u'grey', u'clothes', u'whereas', u'in', u'the', u'book', u'he', u'is', u'clad', u'in', u'green', u'and', u'brown', u'aragorn', u'too', u'wore', u'rusty', u'green', u'and', u'brown', u'in', u'the', u'book', u'whereas', u'his', u'garments', u'are', u'in', u'different', u'shades', u'of', u'brown', u'in', u'the', u'film', u'the', u'scene', u'where', u'the', u'ringwraiths', u'arrive', u'in', u'the', u'hobbits', u'room', u'and', u'slash', u'at', u'their', u'beds', u'only', u'to', u'find', u'that', u'they', u'are', u'not', u'there', u'is', u'not', u'in', u'the', u'book', u'only', u'the', u'discovery', u'of', u'the', u'aftermath', u'the', u'depiction', u'of', u'the', u'battle', u'of', u'helm', u's', u'deep', u'differs', u'in', u'some', u'details', u'from', u'the', u'book', u'notably', u'the', u'fortress', u'itself', u'is', u'called', u'helm', u's', u'deep', u'in', u'the', u'film', u'while', u'in', u'the', u'book', u'it', u'was', u'called', u'the', u'hornburg', u'and', u'helm', u's', u'deep', u'is', u'the', u'name', u'of', u'the', u'valley', u'where', u'it', u'is', u'located', u'or', u'more', u'precisely', u'the', u'ravine', u'behind', u'the', u'fortress', u'the', u'explosive', u'like', u'blasting', u'fire', u'here', u'the', u'fire', u'of', u'isengard', u'appears', u'as', u'magical', u'projectiles', u'shot', u'from', u'isengard', u'itself', u'eomer', u'is', u'portrayed', u'as', u'a', u'renegade', u'found', u'by', u'gandalf', u'together', u'they', u'save', u'the', u'day', u'at', u'helm', u's', u'deep', u'in', u'the', u'book', u'he', u'was', u'present', u'at', u'the', u'battle', u'and', u'gandalf', u'arrived', u'with', u'erkenbrand', u'publicity', u'for', u'the', u'film', u'announced', u'that', u'bakshi', u'had', u'created', u'the', u'first', u'movie', u'painting', u'by', u'utilizing', u'an', u'entirely', u'new', u'technique', u'in', u'filmmaking', u'much', u'of', u'the', u'film', u'used', u'live', u'action', u'footage', u'which', u'was', u'then', u'rotoscoped', u'to', u'produce', u'an', u'animated', u'look', u'this', u'saved', u'production', u'costs', u'and', u'gave', u'the', u'animated', u'characters', u'a', u'more', u'realistic', u'look', u'in', u'animation', u'historian', u'jerry', u'beck', u's', u'the', u'animated', u'movie', u'guide', u'reviewer', u'marea', u'boylan', u'writes', u'that', u'up', u'to', u'that', u'point', u'animated', u'films', u'had', u'not', u'depicted', u'extensive', u'battle', u'scenes', u'with', u'hundreds', u'of', u'characters', u'by', u'using', u'the', u'rotoscope', u'bakshi', u'could', u'trace', u'highly', u'complex', u'scenes', u'from', u'live', u'action', u'footage', u'and', u'transform', u'them', u'into', u'animation', u'thereby', u'taking', u'advantage', u'of', u'the', u'complexity', u'live', u'action', u'film', u'can', u'capture', u'without', u'incurring', u'the', u'exorbitant', u'costs', u'of', u'producing', u'a', u'live', u'action', u'film', u'for', u'the', u'live', u'action', u'portion', u'of', u'the', u'production', u'bakshi', u'and', u'his', u'cast', u'and', u'crew', u'went', u'to', u'spain', u'where', u'the', u'rotoscope', u'models', u'acted', u'out', u'their', u'parts', u'in', u'costume', u'during', u'the', u'middle', u'of', u'a', u'large', u'shoot', u'union', u'bosses', u'called', u'for', u'a', u'lunch', u'break', u'and', u'bakshi', u'secretly', u'shot', u'footage', u'of', u'actors', u'in', u'orc', u'costumes', u'moving', u'toward', u'the', u'craft', u'service', u'table', u'and', u'used', u'the', u'footage', u'in', u'the', u'film', u'many', u'of', u'the', u'actors', u'who', u'contributed', u'voices', u'to', u'this', u'production', u'also', u'acted', u'out', u'their', u'parts', u'for', u'rotoscoped', u'scenes', u'the', u'actions', u'of', u'bilbo', u'baggins', u'and', u'samwise', u'gamgee', u'were', u'performed', u'by', u'billy', u'barty', u'while', u'sharon', u'baird', u'served', u'as', u'the', u'performance', u'model', u'for', u'frodo', u'baggins', u'although', u'some', u'cel', u'animation', u'was', u'produced', u'and', u'shot', u'for', u'the', u'film', u'very', u'little', u'of', u'it', u'appears', u'in', u'the', u'final', u'film', u'most', u'of', u'the', u'film', u's', u'crowd', u'and', u'battle', u'scenes', u'use', u'a', u'different', u'technique', u'in', u'which', u'live', u'action', u'footage', u'is', u'posterized', u'to', u'produce', u'a', u'more', u'three', u'dimensional', u'look', u'in', u'a', u'few', u'shots', u'the', u'two', u'techniques', u'are', u'combined', u'bakshi', u'claimed', u'he', u'didn', u't', u'start', u'thinking', u'about', u'shooting', u'the', u'film', u'totally', u'in', u'live', u'action', u'until', u'i', u'saw', u'it', u'really', u'start', u'to', u'work', u'so', u'well', u'i', u'learned', u'lots', u'of', u'things', u'about', u'the', u'process', u'like', u'rippling', u'one', u'scene', u'some', u'figures', u'were', u'standing', u'on', u'a', u'hill', u'and', u'a', u'big', u'gust', u'of', u'wind', u'came', u'up', u'and', u'the', u'shadows', u'moved', u'back', u'and', u'forth', u'on', u'the', u'clothes', u'and', u'it', u'was', u'unbelievable', u'in', u'animation', u'i', u'don', u't', u'think', u'i', u'could', u'get', u'the', u'feeling', u'of', u'cold', u'on', u'the', u'screen', u'without', u'showing', u'snow', u'or', u'an', u'icicle', u'on', u'some', u'guy', u's', u'nose', u'the', u'characters', u'have', u'weight', u'and', u'they', u'move', u'correctly', u'after', u'the', u'spanish', u'film', u'development', u'lab', u'discovered', u'that', u'telephone', u'lines', u'helicopters', u'and', u'cars', u'could', u'be', u'seen', u'in', u'the', u'footage', u'bakshi', u'had', u'shot', u'they', u'tried', u'to', u'incinerate', u'the', u'footage', u'telling', u'bakshi', u's', u'first', u'assistant', u'director', u'that', u'if', u'that', u'kind', u'of', u'sloppy', u'cinematography', u'got', u'out', u'no', u'one', u'from', u'hollywood', u'would', u'ever', u'come', u'back', u'to', u'spain', u'to', u'shoot', u'again', u'following', u'the', u'live', u'action', u'shoot', u'each', u'frame', u'of', u'the', u'live', u'footage', u'was', u'printed', u'out', u'and', u'placed', u'behind', u'an', u'animation', u'cel', u'the', u'details', u'of', u'each', u'frame', u'were', u'copied', u'and', u'painted', u'onto', u'the', u'cel', u'both', u'the', u'live', u'action', u'and', u'animated', u'sequences', u'were', u'storyboarded', u'of', u'the', u'production', u'bakshi', u'is', u'quoted', u'as', u'saying', u'although', u'he', u'continued', u'to', u'use', u'rotoscoping', u'in', u'american', u'pop', u'hey', u'good', u'lookin', u'and', u'fire', u'and', u'ice', u'bakshi', u'later', u'regretted', u'his', u'use', u'of', u'rotoscoping', u'stating', u'that', u'he', u'felt', u'that', u'it', u'was', u'a', u'mistake', u'to', u'trace', u'the', u'source', u'footage', u'rather', u'than', u'using', u'it', u'as', u'a', u'guide', u'the', u'film', u'score', u'was', u'composed', u'by', u'leonard', u'rosenman', u'bakshi', u'wanted', u'to', u'include', u'music', u'by', u'led', u'zeppelin', u'but', u'producer', u'saul', u'zaentz', u'insisted', u'upon', u'an', u'orchestral', u'score', u'because', u'he', u'would', u'not', u'be', u'able', u'to', u'release', u'the', u'band', u's', u'music', u'on', u'his', u'fantasy', u'records', u'label', u'bakshi', u'later', u'stated', u'that', u'he', u'hated', u'rosenman', u's', u'score', u'which', u'he', u'found', u'to', u'be', u'too', u'cliche', u'in', u'lord', u'of', u'the', u'rings', u'popular', u'culture', u'in', u'global', u'context', u'ernest', u'mathijs', u'writes', u'that', u'rosenman', u's', u'score', u'is', u'a', u'middle', u'ground', u'between', u'his', u'more', u'sonorous', u'but', u'dissonant', u'earlier', u'scores', u'and', u'his', u'more', u'traditional', u'and', u'less', u'challenging', u'sounding', u'music', u'in', u'the', u'final', u'analysis', u'rosenman', u's', u'score', u'has', u'little', u'that', u'marks', u'it', u'out', u'as', u'distinctively', u'about', u'middle', u'earth', u'relying', u'on', u'traditions', u'of', u'music', u'including', u'film', u'music', u'more', u'than', u'any', u'specific', u'attempt', u'to', u'paint', u'a', u'musical', u'picture', u'of', u'the', u'different', u'lands', u'and', u'peoples', u'of', u'tolkien', u's', u'imagination', u'the', u'film', u's', u'score', u'was', u'issued', u'as', u'a', u'double', u'lp', u'soundtrack', u'album', u'in', u'a', u'limited', u'collector', u'edition', u'was', u'created', u'by', u'fantasy', u'records', u'as', u'a', u'picture', u'disc', u'double', u'lp', u'featuring', u'four', u'scenes', u'the', u'hobbits', u'leaving', u'hobbiton', u'the', u'ringwraiths', u'at', u'bree', u'gandalf', u'and', u'the', u'balrog', u'journey', u'with', u'the', u'orcs', u'in', u'the', u'album', u'was', u'reissued', u'on', u'compact', u'disc', u'with', u'bonus', u'tracks', u'the', u'film', u'was', u'originally', u'intended', u'to', u'be', u'distributed', u'as', u'the', u'lord', u'of', u'the', u'rings', u'part', u'one', u'according', u'to', u'bakshi', u'when', u'he', u'completed', u'the', u'film', u'united', u'artists', u'executives', u'told', u'him', u'that', u'they', u'were', u'planning', u'to', u'release', u'the', u'film', u'without', u'indicating', u'that', u'a', u'sequel', u'would', u'follow', u'because', u'they', u'felt', u'that', u'audiences', u'would', u'not', u'pay', u'to', u'see', u'half', u'of', u'a', u'film', u'the', u'film', u'book', u'of', u'jrr', u'tolkien', u's', u'the', u'lord', u'of', u'the', u'rings', u'published', u'by', u'ballantine', u'books', u'on', u'october', u'still', u'referred', u'to', u'the', u'sequel', u'in', u'the', u'book', u's', u'inside', u'cover', u'jacket', u'bakshi', u'states', u'that', u'he', u'would', u'never', u'have', u'made', u'the', u'film', u'if', u'he', u'had', u'known', u'what', u'would', u'happen', u'during', u'the', u'production', u'he', u'is', u'quoted', u'as', u'saying', u'that', u'the', u'reason', u'he', u'made', u'the', u'film', u'was', u'to', u'save', u'it', u'for', u'tolkien', u'because', u'i', u'loved', u'the', u'rings', u'very', u'much', u'bakshi', u'also', u'stated', u'that', u'he', u'felt', u'that', u'the', u'film', u'took', u'more', u'out', u'of', u'me', u'than', u'i', u'got', u'back', u'eventually', u'the', u'rankin', u'bass', u'studio', u'the', u'company', u'behind', u'the', u'animated', u'adaptation', u'of', u'the', u'hobbit', u'released', u'the', u'return', u'of', u'the', u'king', u'in', u'as', u'a', u'sequel', u'to', u'the', u'hobbit', u'the', u'problem', u'of', u'the', u'film', u'being', u'half', u'of', u'the', u'story', u'was', u'resolved', u'during', u'the', u'home', u'video', u'release', u'of', u'the', u'lord', u'of', u'the', u'rings', u'with', u'the', u'billing', u'block', u'on', u'the', u'back', u'of', u'its', u'vhs', u'and', u'dvd', u'copies', u'by', u'crediting', u'the', u'novels', u'the', u'fellowship', u'of', u'the', u'ring', u'and', u'the', u'two', u'towers', u'as', u'the', u'official', u'books', u'on', u'which', u'the', u'film', u'is', u'based', u'the', u'lord', u'of', u'the', u'rings', u'was', u'a', u'financial', u'success', u'the', u'film', u'grossed', u'million', u'at', u'the', u'box', u'office', u'based', u'on', u'a', u'million', u'budget', u'the', u'film', u'was', u'nominated', u'for', u'both', u'the', u'hugo', u'and', u'saturn', u'awards', u'for', u'best', u'dramatic', u'presentation', u'and', u'best', u'fantasy', u'film', u'respectively', u'leonard', u'rosenman', u's', u'score', u'was', u'nominated', u'for', u'a', u'golden', u'globe', u'for', u'best', u'original', u'motion', u'picture', u'score', u'and', u'bakshi', u'won', u'a', u'golden', u'gryphon', u'award', u'for', u'the', u'film', u'at', u'the', u'giffoni', u'film', u'festival', u'critics', u'were', u'generally', u'mixed', u'in', u'their', u'responses', u'to', u'the', u'film', u'but', u'generally', u'considered', u'it', u'to', u'be', u'a', u'flawed', u'but', u'inspired', u'interpretation', u'in', u'the', u'hollywood', u'reporter', u'frank', u'barrow', u'wrote', u'that', u'the', u'film', u'was', u'daring', u'and', u'unusual', u'in', u'concept', u'joseph', u'gelmis', u'of', u'newsday', u'wrote', u'that', u'the', u'film', u's', u'principal', u'reward', u'is', u'a', u'visual', u'experience', u'unlike', u'anything', u'that', u'other', u'animated', u'features', u'are', u'doing', u'at', u'the', u'moment', u'roger', u'ebert', u'called', u'bakshi', u's', u'effort', u'a', u'mixed', u'blessing', u'and', u'an', u'entirely', u'respectable', u'occasionally', u'impressive', u'job', u'which', u'still', u'falls', u'far', u'short', u'of', u'the', u'charm', u'and', u'sweep', u'of', u'the', u'original', u'story', u'vincent', u'canby', u'of', u'the', u'new', u'york', u'times', u'called', u'the', u'film', u'both', u'numbing', u'and', u'impressive', u'david', u'denby', u'of', u'new', u'york', u'magazine', u'felt', u'that', u'the', u'film', u'would', u'not', u'make', u'sense', u'to', u'viewers', u'who', u'had', u'not', u'previously', u'read', u'the', u'book', u'denby', u'wrote', u'that', u'the', u'film', u'was', u'too', u'dark', u'and', u'lacked', u'humor', u'concluding', u'that', u'the', u'lurid', u'meaningless', u'violence', u'of', u'this', u'movie', u'left', u'me', u'exhausted', u'and', u'sickened', u'by', u'the', u'end', u'review', u'aggregate', u'website', u'rotten', u'tomatoes', u'which', u'compiles', u'reviews', u'from', u'a', u'wide', u'range', u'of', u'critics', u'gives', u'the', u'film', u'a', u'score', u'of', u'michael', u'barrier', u'an', u'animation', u'historian', u'described', u'the', u'lord', u'of', u'the', u'rings', u'as', u'one', u'of', u'two', u'films', u'that', u'demonstrated', u'that', u'bakshi', u'was', u'utterly', u'lacking', u'in', u'the', u'artistic', u'self', u'discipline', u'that', u'might', u'have', u'permitted', u'him', u'to', u'outgrow', u'his', u'limitations', u'the', u'film', u'has', u'been', u'cited', u'as', u'an', u'influence', u'on', u'director', u'peter', u'jackson', u's', u'lord', u'of', u'the', u'rings', u'film', u'trilogy', u'after', u'initially', u'denying', u'having', u'seen', u'bakshi', u's', u'film', u'jackson', u'admitted', u'to', u'having', u'first', u'encountered', u'the', u'lord', u'of', u'the', u'rings', u'via', u'bakshi', u's', u'film', u'stating', u'that', u'the', u'film', u'was', u'a', u'brave', u'and', u'ambitious', u'attempt', u'in', u'another', u'interview', u'jackson', u'stated', u'that', u'he', u'enjoyed', u'the', u'film', u'and', u'wanted', u'to', u'know', u'more', u'bakshi', u'is', u'quoted', u'as', u'saying', u'peter', u'jackson', u'did', u'say', u'that', u'the', u'first', u'film', u'inspired', u'him', u'to', u'go', u'on', u'and', u'do', u'the', u'series', u'but', u'that', u'happened', u'after', u'i', u'was', u'bitching', u'and', u'moaning', u'to', u'a', u'lot', u'of', u'interviewers', u'that', u'he', u'said', u'at', u'the', u'beginning', u'that', u'he', u'never', u'saw', u'the', u'movie', u'i', u'thought', u'that', u'was', u'kind', u'of', u'fucked', u'up', u'jackson', u's', u'adaptation', u'borrows', u'from', u'bakshi', u's', u'version', u'on', u'the', u'audio', u'commentary', u'for', u'the', u'dvd', u'release', u'of', u'the', u'lord', u'of', u'the', u'rings', u'the', u'fellowship', u'of', u'the', u'ring', u'jackson', u'acknowledges', u'one', u'shot', u'a', u'low', u'angle', u'of', u'a', u'hobbit', u'at', u'bilbo', u's', u'birthday', u'party', u'shouting', u'proudfeet', u'as', u'an', u'intentional', u'homage', u'to', u'bakshi', u's', u'film', u'bakshi', u'is', u'quoted', u'as', u'saying', u'that', u'he', u'had', u'mixed', u'feeling', u's', u'about', u'jackson', u's', u'adaptations', u'although', u'he', u'had', u'not', u'seen', u'the', u'films', u'in', u'some', u'respects', u'i', u'feel', u'good', u'that', u'peter', u'jackson', u'continued', u'and', u'went', u'on', u'and', u'in', u'some', u'respects', u'i', u'feel', u'bad', u'that', u'saul', u'zaentz', u'the', u'producer', u'and', u'various', u'people', u'never', u'called', u'me', u'thanked', u'me', u'or', u'asked', u'my', u'permission', u'to', u'do', u'the', u'movie', u'nor', u'has', u'anyone', u'sent', u'me', u'a', u'bottle', u'of', u'wine', u'on', u'the', u'tremendous', u'success', u'but', u'i', u'have', u'more', u'feelings', u'on', u'the', u'business', u'side', u'of', u'that', u'than', u'i', u'do', u'on', u'the', u'creative', u'side', u'i', u'm', u'glad', u'peter', u'jackson', u'had', u'a', u'movie', u'to', u'look', u'at', u'i', u'never', u'did', u'and', u'certainly', u'there', u's', u'a', u'lot', u'to', u'learn', u'from', u'watching', u'any', u'movie', u'both', u'its', u'mistakes', u'and', u'when', u'it', u'works', u'so', u'he', u'had', u'a', u'little', u'easier', u'time', u'than', u'i', u'did', u'and', u'a', u'lot', u'better', u'budget', u'the', u'film', u'was', u'adapted', u'into', u'comic', u'book', u'form', u'with', u'artwork', u'by', u'spanish', u'artist', u'luis', u'bermejo', u'under', u'license', u'from', u'tolkien', u'enterprises', u'three', u'issues', u'were', u'published', u'for', u'the', u'european', u'market', u'starting', u'in', u'and', u'were', u'not', u'published', u'in', u'the', u'united', u'states', u'or', u'translated', u'into', u'english', u'due', u'to', u'copyright', u'problems', u'bakshi', u's', u'film', u'sparked', u'enough', u'interest', u'in', u'tolkien', u's', u'work', u'to', u'provoke', u'not', u'only', u'an', u'animated', u'tv', u'special', u'produced', u'by', u'the', u'rankin', u'bass', u'animation', u'studio', u'based', u'on', u'the', u'return', u'of', u'the', u'king', u'but', u'a', u'complete', u'adaptation', u'of', u'the', u'lord', u'of', u'the', u'rings', u'on', u'bbc', u'radio', u'for', u'this', u'broadcast', u'michael', u'graham', u'cox', u'and', u'peter', u'woodthorpe', u'reprised', u'their', u'roles', u'of', u'boromir', u'and', u'gollum', u'respectively']\n"
     ]
    }
   ],
   "source": [
    "text = documents[0]\n",
    "txt = u' '.join([ su.text for su in d ])\n",
    "\n",
    "# Gets a dict of word -> lemma\n",
    "tokens = textcleaner.clean_text_by_word(text, 'english')\n",
    "split_text = list(textcleaner.tokenize_by_word(txt))\n",
    "\n",
    "# Creates the graph and adds the edges\n",
    "graph = commons.build_graph(keywords._get_words_for_graph(tokens))\n",
    "keywords._set_graph_edges(graph, tokens, split_text)\n",
    "del split_text # It's no longer used\n",
    "commons.remove_unreachable_nodes(graph)\n",
    "\n",
    "# # Ranks the tokens using the PageRank algorithm. Returns dict of lemma -> score\n",
    "pagerank_scores = keywords._pagerank_word(graph)\n",
    "\n",
    "extracted_lemmas = keywords._extract_tokens(graph.nodes(), pagerank_scores, 0.2, None)\n",
    "\n",
    "lemmas_to_word = keywords._lemmas_to_words(tokens)\n",
    "keyWords = keywords._get_keywords_with_score(extracted_lemmas, lemmas_to_word)\n",
    "\n",
    "# # text.split() to keep numbers and punctuation marks, so separeted concepts are not combined\n",
    "combined_keywords = keywords._get_combined_keywords(keyWords, txt.split())"
   ]
  },
  {
   "cell_type": "code",
   "execution_count": 24,
   "metadata": {
    "collapsed": false
   },
   "outputs": [
    {
     "name": "stdout",
     "output_type": "stream",
     "text": [
      "[(u'bakshi', 0.32127375127036567), (u'animated films', 0.26328261360608379), (u'fantasy film', 0.21489284876774678), (u'animation', 0.18444015274085487), (u'animator', 0.18444015274085487), (u'rings', 0.15103920300169268), (u'ring', 0.15103920300169268), (u'frodo', 0.14417937553142948), (u'gandalf', 0.13876424411504765), (u'hobbits', 0.10446001979575247), (u'hobbit', 0.10446001979575247), (u'michael', 0.094512141874428746), (u'book', 0.092336619120817781), (u'books', 0.092336619120817781), (u'artists', 0.092172084111127692), (u'artistic', 0.092172084111127692), (u'artist', 0.092172084111127692), (u'jackson', 0.090977944787364803), (u'aragorn', 0.086515575250571561), (u'adaptation', 0.080420292547296879), (u'adapt', 0.080420292547296879), (u'adaptations', 0.080420292547296879), (u'adapted', 0.080420292547296879), (u'peter', 0.079219023031011734), (u'legolas', 0.078532939131948351), (u'like', 0.078254003137500555), (u'gollum', 0.072906661696006625), (u'reviewer', 0.069644976995455313), (u'review', 0.069644976995455313), (u'reviews', 0.069644976995455313), (u'zaentz', 0.067920714941151261), (u'john', 0.067296125157324568), (u'later', 0.066897357086794423), (u'men', 0.066766578349584563), (u'tolkien', 0.064886306566941443), (u'saruman', 0.064412345777192667), (u'mixed', 0.063388152871746359), (u'footage', 0.062248040713718596), (u'wrote', 0.061615103445222724), (u'started', 0.06138904203832294), (u'start', 0.06138904203832294), (u'starting', 0.06138904203832294), (u'rotoscoping', 0.061275552249476881), (u'rotoscope', 0.061275552249476881), (u'stated', 0.060562839828070869), (u'stating', 0.060562839828070869), (u'states', 0.060562839828070869), (u'ringwraiths', 0.060341341610939521), (u'story', 0.060192728463534018), (u'called', 0.059745768031708474), (u'director', 0.059691949608511687), (u'time', 0.059197871607880696), (u'times', 0.059197871607880696), (u'fell', 0.058326734081500263), (u'merry', 0.057629825492909903), (u'respectively', 0.05617942490192479), (u'respectable', 0.05617942490192479), (u'respects', 0.05617942490192479), (u'dwarf', 0.055978089085443883), (u'lord', 0.055545960272911817), (u'mountains', 0.054577481221694001), (u'mountain', 0.054577481221694001), (u'actions', 0.054182509622402321), (u'different', 0.054132152720183686), (u'differs', 0.054132152720183686), (u'movie', 0.054120724385700342), (u'success', 0.054061566487172329), (u'earth', 0.053767975830802131), (u'original', 0.052942947814625711), (u'originally', 0.052942947814625711), (u'office', 0.052889064315611162), (u'bilbo', 0.052456395092570468), (u'david', 0.05231729820234915), (u'baggins', 0.05215738603862885), (u'rotoscoped live action', 0.052059389975320121), (u'wore', 0.051376682031166), (u'hey', 0.051064611736990756), (u'sauron', 0.050588967288990296), (u'years', 0.050070065349621946), (u'illustration', 0.049413592705731764), (u'illustrators', 0.049413592705731764), (u'cost', 0.049244415180528557), (u'costs', 0.049244415180528557), (u'produce', 0.049225443911771104), (u'producer', 0.049225443911771104), (u'producing', 0.049225443911771104), (u'produced', 0.049225443911771104), (u'million', 0.049173152320739155), (u'evil', 0.049040875654414347), (u'deep', 0.048397707216730181), (u'rosenman', 0.047651354769887203), (u'production', 0.047353035517404052), (u'guard', 0.046964177147329367), (u'score', 0.046877867683109024), (u'scores', 0.046877867683109024), (u'joseph', 0.046264908779133522), (u'dan', 0.046264908779127388), (u'wars', 0.046264908779126909), (u'named', 0.046264908779126854), (u'journey', 0.046264908779126777), (u'finance', 0.04626490877912677), (u'c', 0.046264908779126764), (u'baird', 0.046264908779126764), (u'attempts', 0.046264908779126701), (u'attempt', 0.046264908779126701), (u'collector', 0.046264908779126687), (u'snow', 0.046264908779126625), (u'service', 0.04626490877912659), (u'meaningless', 0.046264908779126569), (u'legend', 0.046264908779126562), (u'experience', 0.046264908779126541), (u'stanley', 0.046264908779126479), (u'according', 0.04626490877912643), (u'forest', 0.04626490877912641), (u'lines', 0.046264908779126278), (u'river', 0.046264908779125993), (u'maggot', 0.046264908779125993), (u'musical picture', 0.046243750256924662), (u'united', 0.04595538587887129), (u'music', 0.04570528823870694), (u'orcs', 0.045474173914975026), (u'orc', 0.045474173914975026), (u'feeling', 0.045297954035904142), (u'feel', 0.045297954035904142), (u'feelings', 0.045297954035904142), (u'draft', 0.045244904808577548), (u'drafts', 0.045244904808577548), (u'look', 0.043643901509541075), (u'historian', 0.042824520198429701), (u'good', 0.042783013347370308), (u'scenes', 0.042454465723218572), (u'scene', 0.042454465723218572), (u'sound', 0.042004269911135199), (u'sounding', 0.042004269911135199), (u'models', 0.041481517897050235), (u'model', 0.041481517897050235), (u'sam', 0.04129318029511022), (u'gurgling wretch', 0.041154063015037254), (u'humor', 0.041154063015026984), (u'lack', 0.041154063015022196), (u'lacked', 0.041154063015022196), (u'lacking', 0.041154063015022196), (u'release', 0.041109587345601398), (u'released', 0.041109587345601398), (u'impressive', 0.04068210032244797), (u'smeagol', 0.039952569808305395), (u'disc', 0.039934130098252293), (u'elf', 0.039848551469284288), (u'lp', 0.039510455220439528), (u'writing', 0.039263400122252171), (u'writes', 0.039263400122252171), (u'conkling', 0.039208424348850454), (u'birthday', 0.038979812781625253), (u'shouting', 0.038979812781625059), (u'golden', 0.038979812781624983), (u'awards', 0.038979812781624656), (u'award', 0.038979812781624656), (u'better', 0.038911915365400958), (u'theoden', 0.038810423707763365), (u'shoot', 0.038793075722612591), (u'shooting', 0.038793075722612591), (u'york', 0.038670270165041168), (u'learning', 0.038458910784798669), (u'learns', 0.038458910784798669), (u'learned', 0.038458910784798669), (u'learn', 0.038458910784798669), (u'boromir', 0.038252923235776747), (u'saul', 0.038029180785023417), (u'best', 0.037981953869891276), (u'atop', 0.037952336336560248)]\n"
     ]
    }
   ],
   "source": [
    "kw_scores = keywords._format_results(keyWords, combined_keywords, False, True)\n",
    "\n",
    "results = [Counter({ 'TEXTRANK_KEYWORD_SCORE': keyword_mean_score(su.basic, kw_scores) }) for su in text ]\n",
    "# return results\n",
    "# keyWords = textrank_keyword(txt)\n",
    "# print keyWords"
   ]
  },
  {
   "cell_type": "code",
   "execution_count": 25,
   "metadata": {
    "collapsed": true
   },
   "outputs": [],
   "source": [
    "def keyword_mean_score(sentence, wordScores):\n",
    "    totalScore = sum([ s for w, s in wordScores if w in sentence ])\n",
    "    return totalScore / len(sentence.split())"
   ]
  },
  {
   "cell_type": "code",
   "execution_count": 12,
   "metadata": {
    "collapsed": false
   },
   "outputs": [
    {
     "name": "stdout",
     "output_type": "stream",
     "text": [
      "STAGE [3] -- FEATURIZING -- (TextRank, LexRank, LDA) ...\n",
      "******************\n",
      "[u'jrr', u'tolkien', u's', u'the', u'lord', u'of']\n",
      "******************\n"
     ]
    },
    {
     "ename": "ZeroDivisionError",
     "evalue": "float division by zero",
     "output_type": "error",
     "traceback": [
      "\u001b[0;31m---------------------------------------------------------------------------\u001b[0m",
      "\u001b[0;31mZeroDivisionError\u001b[0m                         Traceback (most recent call last)",
      "\u001b[0;32m<ipython-input-12-64d1ad47394f>\u001b[0m in \u001b[0;36m<module>\u001b[0;34m()\u001b[0m\n\u001b[1;32m      2\u001b[0m \u001b[0;31m# TRAIN:\u001b[0m\u001b[0;34m\u001b[0m\u001b[0;34m\u001b[0m\u001b[0m\n\u001b[1;32m      3\u001b[0m \u001b[0;31m# <><><><><><><><><><><><><><><><><><><><><><><><><><><><><><><><><><><><><><><><><>\u001b[0m\u001b[0;34m\u001b[0m\u001b[0;34m\u001b[0m\u001b[0m\n\u001b[0;32m----> 4\u001b[0;31m \u001b[0mfeatures\u001b[0m \u001b[0;34m=\u001b[0m \u001b[0mfeaturize\u001b[0m\u001b[0;34m(\u001b[0m\u001b[0mdocuments\u001b[0m\u001b[0;34m,\u001b[0m \u001b[0msurfaceFeatures\u001b[0m\u001b[0;34m)\u001b[0m\u001b[0;34m\u001b[0m\u001b[0m\n\u001b[0m\u001b[1;32m      5\u001b[0m \u001b[0mmodel\u001b[0m\u001b[0;34m,\u001b[0m \u001b[0mfeatMatrix\u001b[0m \u001b[0;34m=\u001b[0m \u001b[0mtrain_classifier\u001b[0m\u001b[0;34m(\u001b[0m\u001b[0mfeatures\u001b[0m\u001b[0;34m,\u001b[0m \u001b[0mlabels\u001b[0m\u001b[0;34m)\u001b[0m\u001b[0;34m\u001b[0m\u001b[0m\n\u001b[1;32m      6\u001b[0m \u001b[0;34m\u001b[0m\u001b[0m\n",
      "\u001b[0;32m<ipython-input-5-78922ff8cb22>\u001b[0m in \u001b[0;36mfeaturize\u001b[0;34m(documents, surfaceFeatures)\u001b[0m\n\u001b[1;32m      3\u001b[0m     \u001b[0mfeatures\u001b[0m \u001b[0;34m=\u001b[0m \u001b[0;34m[\u001b[0m\u001b[0;34m]\u001b[0m\u001b[0;34m\u001b[0m\u001b[0m\n\u001b[1;32m      4\u001b[0m     \u001b[0;32mfor\u001b[0m \u001b[0mdocIndex\u001b[0m\u001b[0;34m,\u001b[0m \u001b[0mdoc\u001b[0m \u001b[0;32min\u001b[0m \u001b[0menumerate\u001b[0m\u001b[0;34m(\u001b[0m\u001b[0mdocuments\u001b[0m\u001b[0;34m)\u001b[0m\u001b[0;34m:\u001b[0m\u001b[0;34m\u001b[0m\u001b[0m\n\u001b[0;32m----> 5\u001b[0;31m         \u001b[0mdocumentFeatures\u001b[0m \u001b[0;34m=\u001b[0m \u001b[0mextract_document_wide_features\u001b[0m\u001b[0;34m(\u001b[0m\u001b[0mdoc\u001b[0m\u001b[0;34m)\u001b[0m\u001b[0;34m\u001b[0m\u001b[0m\n\u001b[0m\u001b[1;32m      6\u001b[0m         \u001b[0mdocumentFeatures\u001b[0m\u001b[0;34m.\u001b[0m\u001b[0mappend\u001b[0m\u001b[0;34m(\u001b[0m\u001b[0msurfaceFeatures\u001b[0m\u001b[0;34m[\u001b[0m\u001b[0mdocIndex\u001b[0m\u001b[0;34m]\u001b[0m\u001b[0;34m)\u001b[0m\u001b[0;34m\u001b[0m\u001b[0m\n\u001b[1;32m      7\u001b[0m         \u001b[0mfeatures\u001b[0m \u001b[0;34m+=\u001b[0m \u001b[0;34m[\u001b[0m \u001b[0mcounter_sum\u001b[0m\u001b[0;34m(\u001b[0m\u001b[0mfl\u001b[0m\u001b[0;34m)\u001b[0m \u001b[0;32mfor\u001b[0m \u001b[0mfl\u001b[0m \u001b[0;32min\u001b[0m \u001b[0mizip\u001b[0m\u001b[0;34m(\u001b[0m\u001b[0;34m*\u001b[0m\u001b[0mdocumentFeatures\u001b[0m\u001b[0;34m)\u001b[0m \u001b[0;34m]\u001b[0m\u001b[0;34m\u001b[0m\u001b[0m\n",
      "\u001b[0;32m<ipython-input-6-39f56fb5839d>\u001b[0m in \u001b[0;36mextract_document_wide_features\u001b[0;34m(document)\u001b[0m\n\u001b[1;32m      6\u001b[0m \u001b[0;34m\u001b[0m\u001b[0m\n\u001b[1;32m      7\u001b[0m     \u001b[0mtxt\u001b[0m \u001b[0;34m=\u001b[0m \u001b[0;34m' '\u001b[0m\u001b[0;34m.\u001b[0m\u001b[0mjoin\u001b[0m\u001b[0;34m(\u001b[0m\u001b[0;34m[\u001b[0m \u001b[0msu\u001b[0m\u001b[0;34m.\u001b[0m\u001b[0mtext\u001b[0m \u001b[0;32mfor\u001b[0m \u001b[0msu\u001b[0m \u001b[0;32min\u001b[0m \u001b[0mdocument\u001b[0m \u001b[0;34m]\u001b[0m\u001b[0;34m)\u001b[0m\u001b[0;34m\u001b[0m\u001b[0m\n\u001b[0;32m----> 8\u001b[0;31m     \u001b[0mkeyWords\u001b[0m \u001b[0;34m=\u001b[0m \u001b[0mtextrank_keyword\u001b[0m\u001b[0;34m(\u001b[0m\u001b[0mtxt\u001b[0m\u001b[0;34m)\u001b[0m\u001b[0;34m\u001b[0m\u001b[0m\n\u001b[0m\u001b[1;32m      9\u001b[0m     \u001b[0;32mprint\u001b[0m \u001b[0mkeyWords\u001b[0m\u001b[0;34m\u001b[0m\u001b[0m\n\u001b[1;32m     10\u001b[0m \u001b[0;34m\u001b[0m\u001b[0m\n",
      "\u001b[0;32m<ipython-input-9-6dfef5abe56c>\u001b[0m in \u001b[0;36mtextrank_keyword\u001b[0;34m(text)\u001b[0m\n\u001b[1;32m     13\u001b[0m \u001b[0;34m\u001b[0m\u001b[0m\n\u001b[1;32m     14\u001b[0m     \u001b[0;31m# Ranks the tokens using the PageRank algorithm. Returns dict of lemma -> score\u001b[0m\u001b[0;34m\u001b[0m\u001b[0;34m\u001b[0m\u001b[0m\n\u001b[0;32m---> 15\u001b[0;31m     \u001b[0mpagerank_scores\u001b[0m \u001b[0;34m=\u001b[0m \u001b[0mkeywords\u001b[0m\u001b[0;34m.\u001b[0m\u001b[0m_pagerank\u001b[0m\u001b[0;34m(\u001b[0m\u001b[0mgraph\u001b[0m\u001b[0;34m)\u001b[0m\u001b[0;34m\u001b[0m\u001b[0m\n\u001b[0m\u001b[1;32m     16\u001b[0m \u001b[0;34m\u001b[0m\u001b[0m\n\u001b[1;32m     17\u001b[0m     \u001b[0mextracted_lemmas\u001b[0m \u001b[0;34m=\u001b[0m \u001b[0mkeywords\u001b[0m\u001b[0;34m.\u001b[0m\u001b[0m_extract_tokens\u001b[0m\u001b[0;34m(\u001b[0m\u001b[0mgraph\u001b[0m\u001b[0;34m.\u001b[0m\u001b[0mnodes\u001b[0m\u001b[0;34m(\u001b[0m\u001b[0;34m)\u001b[0m\u001b[0;34m,\u001b[0m \u001b[0mpagerank_scores\u001b[0m\u001b[0;34m,\u001b[0m \u001b[0mratio\u001b[0m\u001b[0;34m,\u001b[0m \u001b[0mwords\u001b[0m\u001b[0;34m)\u001b[0m\u001b[0;34m\u001b[0m\u001b[0m\n",
      "\u001b[0;32m/Users/shayne/Developer/Text_Summarizer/Text_Summarizer/summanlp_textrank/pagerank_weighted.pyc\u001b[0m in \u001b[0;36mpagerank_weighted_scipy\u001b[0;34m(graph, damping)\u001b[0m\n\u001b[1;32m     43\u001b[0m \u001b[0;32mdef\u001b[0m \u001b[0mpagerank_weighted_scipy\u001b[0m\u001b[0;34m(\u001b[0m\u001b[0mgraph\u001b[0m\u001b[0;34m,\u001b[0m \u001b[0mdamping\u001b[0m\u001b[0;34m=\u001b[0m\u001b[0;36m0.85\u001b[0m\u001b[0;34m)\u001b[0m\u001b[0;34m:\u001b[0m\u001b[0;34m\u001b[0m\u001b[0m\n\u001b[1;32m     44\u001b[0m     \u001b[0madjacency_matrix\u001b[0m \u001b[0;34m=\u001b[0m \u001b[0mbuild_adjacency_matrix\u001b[0m\u001b[0;34m(\u001b[0m\u001b[0mgraph\u001b[0m\u001b[0;34m)\u001b[0m\u001b[0;34m\u001b[0m\u001b[0m\n\u001b[0;32m---> 45\u001b[0;31m     \u001b[0mprobability_matrix\u001b[0m \u001b[0;34m=\u001b[0m \u001b[0mbuild_probability_matrix\u001b[0m\u001b[0;34m(\u001b[0m\u001b[0mgraph\u001b[0m\u001b[0;34m)\u001b[0m\u001b[0;34m\u001b[0m\u001b[0m\n\u001b[0m\u001b[1;32m     46\u001b[0m \u001b[0;34m\u001b[0m\u001b[0m\n\u001b[1;32m     47\u001b[0m     \u001b[0mpagerank_matrix\u001b[0m \u001b[0;34m=\u001b[0m \u001b[0mdamping\u001b[0m \u001b[0;34m*\u001b[0m \u001b[0madjacency_matrix\u001b[0m\u001b[0;34m.\u001b[0m\u001b[0mtodense\u001b[0m\u001b[0;34m(\u001b[0m\u001b[0;34m)\u001b[0m \u001b[0;34m+\u001b[0m \u001b[0;34m(\u001b[0m\u001b[0;36m1\u001b[0m \u001b[0;34m-\u001b[0m \u001b[0mdamping\u001b[0m\u001b[0;34m)\u001b[0m \u001b[0;34m*\u001b[0m \u001b[0mprobability_matrix\u001b[0m\u001b[0;34m\u001b[0m\u001b[0m\n",
      "\u001b[0;32m/Users/shayne/Developer/Text_Summarizer/Text_Summarizer/summanlp_textrank/pagerank_weighted.pyc\u001b[0m in \u001b[0;36mbuild_probability_matrix\u001b[0;34m(graph)\u001b[0m\n\u001b[1;32m     74\u001b[0m     \u001b[0mmatrix\u001b[0m \u001b[0;34m=\u001b[0m \u001b[0mempty_matrix\u001b[0m\u001b[0;34m(\u001b[0m\u001b[0;34m(\u001b[0m\u001b[0mdimension\u001b[0m\u001b[0;34m,\u001b[0m\u001b[0mdimension\u001b[0m\u001b[0;34m)\u001b[0m\u001b[0;34m)\u001b[0m\u001b[0;34m\u001b[0m\u001b[0m\n\u001b[1;32m     75\u001b[0m \u001b[0;34m\u001b[0m\u001b[0m\n\u001b[0;32m---> 76\u001b[0;31m     \u001b[0mprobability\u001b[0m \u001b[0;34m=\u001b[0m \u001b[0;36m1\u001b[0m \u001b[0;34m/\u001b[0m \u001b[0mfloat\u001b[0m\u001b[0;34m(\u001b[0m\u001b[0mdimension\u001b[0m\u001b[0;34m)\u001b[0m\u001b[0;34m\u001b[0m\u001b[0m\n\u001b[0m\u001b[1;32m     77\u001b[0m     \u001b[0mmatrix\u001b[0m\u001b[0;34m.\u001b[0m\u001b[0mfill\u001b[0m\u001b[0;34m(\u001b[0m\u001b[0mprobability\u001b[0m\u001b[0;34m)\u001b[0m\u001b[0;34m\u001b[0m\u001b[0m\n\u001b[1;32m     78\u001b[0m \u001b[0;34m\u001b[0m\u001b[0m\n",
      "\u001b[0;31mZeroDivisionError\u001b[0m: float division by zero"
     ]
    }
   ],
   "source": [
    "# <><><><><><><><><><><><><><><><><><><><><><><><><><><><><><><><><><><><><><><><><>\n",
    "# TRAIN:\n",
    "# <><><><><><><><><><><><><><><><><><><><><><><><><><><><><><><><><><><><><><><><><>\n",
    "features = featurize(documents, surfaceFeatures)\n",
    "model, featMatrix = train_classifier(features, labels)\n",
    "\n",
    "scores = cross_val_score(model, featMatrix, labels, scoring=\"f1_macro\") # accuracy, f1, log_loss\n",
    "print model.coef_\n",
    "predictions = model.predict(featMatrix)\n",
    "print metrics.classification_report(labels, predictions)"
   ]
  },
  {
   "cell_type": "code",
   "execution_count": 4,
   "metadata": {
    "collapsed": false
   },
   "outputs": [
    {
     "name": "stdout",
     "output_type": "stream",
     "text": [
      "It uses a hybrid of traditional cel animation and rotoscoped live action footage.\n",
      "[(u'hybrid', 'JJ'), (u'traditional', 'JJ'), (u'cel', 'NN'), (u'animation', 'NN'), (u'live', 'JJ'), (u'action', 'NN'), (u'footage', 'NN')]\n",
      "summary\n",
      "2\n",
      "SUMMARY\n",
      "Counter({'CONTAINS_WORD_TYPE_VB': 1.0, 'CONTAINS_WORD_TYPE_NN': 1.0, 'SENTENCE_LENGTH_2': 1.0, 'CONTAINS_WORD_TYPE_JJ': 1.0, 'CONTAINS_PUNCTUATION_.': 1.0, 'TEXTRANK_SCORE': 0.97408521307294471, 'WORD_RATIO_NN': 0.36363636363636365, 'WORD_RATIO_JJ': 0.2727272727272727, 'WORD_RATIO_VB': 0.18181818181818182})\n"
     ]
    }
   ],
   "source": [
    "print documents[0][2].text\n",
    "print documents[0][2].processed\n",
    "print documents[0][2].label\n",
    "print documents[0][2].index\n",
    "print predictions[2]\n",
    "print features[2]"
   ]
  },
  {
   "cell_type": "code",
   "execution_count": 7,
   "metadata": {
    "collapsed": false
   },
   "outputs": [
    {
     "name": "stdout",
     "output_type": "stream",
     "text": [
      "[ 0.          0.          0.          0.          1.          0.          0.\n",
      "  1.          1.          0.          0.          1.          0.          0.\n",
      "  1.          0.          0.          0.97408521  0.27272727  0.36363636\n",
      "  0.          0.18181818]\n"
     ]
    }
   ],
   "source": [
    "print featMatrix[2]"
   ]
  },
  {
   "cell_type": "code",
   "execution_count": null,
   "metadata": {
    "collapsed": true
   },
   "outputs": [],
   "source": [
    "# SUMMARY: +ve"
   ]
  },
  {
   "cell_type": "code",
   "execution_count": null,
   "metadata": {
    "collapsed": true
   },
   "outputs": [],
   "source": []
  }
 ],
 "metadata": {
  "kernelspec": {
   "display_name": "Python 2",
   "language": "python",
   "name": "python2"
  },
  "language_info": {
   "codemirror_mode": {
    "name": "ipython",
    "version": 2
   },
   "file_extension": ".py",
   "mimetype": "text/x-python",
   "name": "python",
   "nbconvert_exporter": "python",
   "pygments_lexer": "ipython2",
   "version": "2.7.6"
  }
 },
 "nbformat": 4,
 "nbformat_minor": 0
}
