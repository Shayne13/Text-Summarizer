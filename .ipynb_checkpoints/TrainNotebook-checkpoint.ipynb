{
 "cells": [
  {
   "cell_type": "code",
   "execution_count": 1,
   "metadata": {
    "collapsed": false
   },
   "outputs": [
    {
     "ename": "NameError",
     "evalue": "global name 'sentenceDetector' is not defined",
     "output_type": "error",
     "traceback": [
      "\u001b[0;31m---------------------------------------------------------------------------\u001b[0m",
      "\u001b[0;31mNameError\u001b[0m                                 Traceback (most recent call last)",
      "\u001b[0;32m<ipython-input-1-da77bc3cb956>\u001b[0m in \u001b[0;36m<module>\u001b[0;34m()\u001b[0m\n\u001b[1;32m     13\u001b[0m \u001b[0;31m# <><><><><><><><><><><><><><><><><><><><><><><><><><><><><><><><>\u001b[0m\u001b[0;34m\u001b[0m\u001b[0;34m\u001b[0m\u001b[0m\n\u001b[1;32m     14\u001b[0m \u001b[0;34m\u001b[0m\u001b[0m\n\u001b[0;32m---> 15\u001b[0;31m \u001b[0msummaries\u001b[0m\u001b[0;34m,\u001b[0m \u001b[0msummaryFeatures\u001b[0m \u001b[0;34m=\u001b[0m \u001b[0mparse_folder\u001b[0m\u001b[0;34m(\u001b[0m\u001b[0minputXML\u001b[0m\u001b[0;34m,\u001b[0m \u001b[0moutputGold\u001b[0m\u001b[0;34m,\u001b[0m \u001b[0;36m0\u001b[0m\u001b[0;34m)\u001b[0m\u001b[0;34m\u001b[0m\u001b[0m\n\u001b[0m\u001b[1;32m     16\u001b[0m \u001b[0;32mprint\u001b[0m \u001b[0;34m\"Summaries all parsed.\"\u001b[0m\u001b[0;34m\u001b[0m\u001b[0m\n\u001b[1;32m     17\u001b[0m \u001b[0marticles\u001b[0m\u001b[0;34m,\u001b[0m \u001b[0mbodyFeatures\u001b[0m \u001b[0;34m=\u001b[0m \u001b[0mparse_folder\u001b[0m\u001b[0;34m(\u001b[0m\u001b[0minputXML\u001b[0m\u001b[0;34m,\u001b[0m \u001b[0moutputXML\u001b[0m\u001b[0;34m,\u001b[0m \u001b[0;36m1\u001b[0m\u001b[0;34m)\u001b[0m\u001b[0;34m\u001b[0m\u001b[0m\n",
      "\u001b[0;32m/Users/shayne/Developer/Text_Summarizer/Text_Summarizer/parser.py\u001b[0m in \u001b[0;36mparse_folder\u001b[0;34m(folder, output, flag)\u001b[0m\n\u001b[1;32m     35\u001b[0m     \u001b[0;32mif\u001b[0m \u001b[0mflag\u001b[0m \u001b[0;34m==\u001b[0m \u001b[0;36m0\u001b[0m\u001b[0;34m:\u001b[0m \u001b[0;31m# Extract and write gold summaries to output folder:\u001b[0m\u001b[0;34m\u001b[0m\u001b[0m\n\u001b[1;32m     36\u001b[0m \u001b[0;34m\u001b[0m\u001b[0m\n\u001b[0;32m---> 37\u001b[0;31m       \u001b[0mtitle\u001b[0m\u001b[0;34m,\u001b[0m \u001b[0mgoldSummarySentences\u001b[0m\u001b[0;34m,\u001b[0m \u001b[0mprocessedSummary\u001b[0m\u001b[0;34m,\u001b[0m \u001b[0msummaryFeatures\u001b[0m \u001b[0;34m=\u001b[0m \u001b[0mparse_summary\u001b[0m\u001b[0;34m(\u001b[0m\u001b[0md\u001b[0m\u001b[0;34m)\u001b[0m\u001b[0;34m\u001b[0m\u001b[0m\n\u001b[0m\u001b[1;32m     38\u001b[0m       \u001b[0mgoldFilename\u001b[0m \u001b[0;34m=\u001b[0m \u001b[0;34m'{0}/gold_{1}.txt'\u001b[0m\u001b[0;34m.\u001b[0m\u001b[0mformat\u001b[0m\u001b[0;34m(\u001b[0m\u001b[0moutput\u001b[0m\u001b[0;34m,\u001b[0m \u001b[0mkey\u001b[0m\u001b[0;34m)\u001b[0m\u001b[0;34m\u001b[0m\u001b[0m\n\u001b[1;32m     39\u001b[0m       \u001b[0;32mwith\u001b[0m \u001b[0mcodecs\u001b[0m\u001b[0;34m.\u001b[0m\u001b[0mopen\u001b[0m\u001b[0;34m(\u001b[0m\u001b[0mgoldFilename\u001b[0m\u001b[0;34m,\u001b[0m \u001b[0;34m'w'\u001b[0m\u001b[0;34m,\u001b[0m \u001b[0;34m'utf-8-sig'\u001b[0m\u001b[0;34m)\u001b[0m \u001b[0;32mas\u001b[0m \u001b[0mgf\u001b[0m\u001b[0;34m:\u001b[0m \u001b[0mgf\u001b[0m\u001b[0;34m.\u001b[0m\u001b[0mwrite\u001b[0m\u001b[0;34m(\u001b[0m\u001b[0;34mu'\\n'\u001b[0m\u001b[0;34m.\u001b[0m\u001b[0mjoin\u001b[0m\u001b[0;34m(\u001b[0m\u001b[0mgoldSummarySentences\u001b[0m\u001b[0;34m)\u001b[0m\u001b[0;34m)\u001b[0m\u001b[0;34m\u001b[0m\u001b[0m\n",
      "\u001b[0;32m/Users/shayne/Developer/Text_Summarizer/Text_Summarizer/parser.py\u001b[0m in \u001b[0;36mparse_summary\u001b[0;34m(d)\u001b[0m\n\u001b[1;32m     69\u001b[0m   \u001b[0msummaryElem\u001b[0m \u001b[0;34m=\u001b[0m \u001b[0md\u001b[0m\u001b[0;34m(\u001b[0m\u001b[0;34m'summary'\u001b[0m\u001b[0;34m)\u001b[0m\u001b[0;34m\u001b[0m\u001b[0m\n\u001b[1;32m     70\u001b[0m   \u001b[0mfullSummary\u001b[0m \u001b[0;34m=\u001b[0m \u001b[0;34mu' '\u001b[0m\u001b[0;34m.\u001b[0m\u001b[0mjoin\u001b[0m\u001b[0;34m(\u001b[0m\u001b[0;34m[\u001b[0m \u001b[0mc\u001b[0m\u001b[0;34m.\u001b[0m\u001b[0mtext\u001b[0m \u001b[0;32mfor\u001b[0m \u001b[0mc\u001b[0m \u001b[0;32min\u001b[0m \u001b[0msummaryElem\u001b[0m\u001b[0;34m.\u001b[0m\u001b[0mchildren\u001b[0m\u001b[0;34m(\u001b[0m\u001b[0;34m)\u001b[0m \u001b[0;34m]\u001b[0m\u001b[0;34m)\u001b[0m\u001b[0;34m\u001b[0m\u001b[0m\n\u001b[0;32m---> 71\u001b[0;31m   \u001b[0msummaryAsListOfSentences\u001b[0m \u001b[0;34m=\u001b[0m \u001b[0msentenceDetector\u001b[0m\u001b[0;34m.\u001b[0m\u001b[0mtokenize\u001b[0m\u001b[0;34m(\u001b[0m\u001b[0mfullSummary\u001b[0m\u001b[0;34m)\u001b[0m\u001b[0;34m\u001b[0m\u001b[0m\n\u001b[0m\u001b[1;32m     72\u001b[0m   \u001b[0;32mfor\u001b[0m \u001b[0ms\u001b[0m \u001b[0;32min\u001b[0m \u001b[0msummaryAsListOfSentences\u001b[0m\u001b[0;34m:\u001b[0m\u001b[0;34m\u001b[0m\u001b[0m\n\u001b[1;32m     73\u001b[0m     \u001b[0mprocessedSentence\u001b[0m\u001b[0;34m,\u001b[0m \u001b[0msurfaceFeatures\u001b[0m \u001b[0;34m=\u001b[0m \u001b[0mprocess_sentence\u001b[0m\u001b[0;34m(\u001b[0m\u001b[0ms\u001b[0m\u001b[0;34m)\u001b[0m\u001b[0;34m\u001b[0m\u001b[0m\n",
      "\u001b[0;31mNameError\u001b[0m: global name 'sentenceDetector' is not defined"
     ]
    }
   ],
   "source": [
    "from parser import *\n",
    "from trainer import *\n",
    "\n",
    "inputXML = \"sample_rawdata\"\n",
    "outputGold = \"sample_gold\"\n",
    "outputXML = \"sample_train\"\n",
    "\n",
    "# <><><><><><><><><><><><><><><><><><><><><><><><><><><><><><><><>\n",
    "# TRAIN:\n",
    "# <><><><><><><><><><><><><><><><><><><><><><><><><><><><><><><><>\n",
    "\n",
    "summaries, summaryFeatures = parse_folder(inputXML, outputGold, 0)\n",
    "print \"Summaries all parsed.\"\n",
    "articles, bodyFeatures = parse_folder(inputXML, outputXML, 1)\n",
    "print \"Bodies all parsed.\"\n",
    "\n",
    "features, labels = featurize(summaryFeatures, bodyFeatures)\n",
    "model = trainClassifier(features, labels)\n",
    "\n",
    "scores = cross_val_score(model, features, labels, scoring=\"f1_macro\") # accuracy, f1, log_loss\n",
    "print model.coef_\n",
    "predictions = model.predict(features)\n",
    "print metrics.classification_report(labels, predictions)\n",
    "\n",
    "# ---------------------------------------------------------------\n",
    "# RANDOM NOTES:\n",
    "# ---------------------------------------------------------------\n",
    "\n",
    "# INTERMIX FEATURES:\n",
    "# ---------------------------------------------------------------\n",
    "# ['1', '2', '3'] and ['a', 'b', 'c', 'd'] => ['1', 'a', '2', 'b', '3', 'c', 'd']\n",
    "# features = [x for x in itertools.chain.from_iterable(itertools.izip_longest(summaryFeatures, bodyFeatures)) if x]\n",
    "# labels = [x for x in itertools.chain.from_iterable(itertools.izip_longest(summLabels, bodyLabels)) if x]\n"
   ]
  },
  {
   "cell_type": "code",
   "execution_count": null,
   "metadata": {
    "collapsed": true
   },
   "outputs": [],
   "source": []
  }
 ],
 "metadata": {
  "kernelspec": {
   "display_name": "Python 2",
   "language": "python",
   "name": "python2"
  },
  "language_info": {
   "codemirror_mode": {
    "name": "ipython",
    "version": 2
   },
   "file_extension": ".py",
   "mimetype": "text/x-python",
   "name": "python",
   "nbconvert_exporter": "python",
   "pygments_lexer": "ipython2",
   "version": "2.7.6"
  }
 },
 "nbformat": 4,
 "nbformat_minor": 0
}
