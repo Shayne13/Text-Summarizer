{
 "cells": [
  {
   "cell_type": "code",
   "execution_count": 2,
   "metadata": {
    "collapsed": false
   },
   "outputs": [
    {
     "ename": "NameError",
     "evalue": "name 'inputXML' is not defined",
     "output_type": "error",
     "traceback": [
      "\u001b[0;31m---------------------------------------------------------------------------\u001b[0m",
      "\u001b[0;31mNameError\u001b[0m                                 Traceback (most recent call last)",
      "\u001b[0;32m<ipython-input-2-d3cf591abb13>\u001b[0m in \u001b[0;36m<module>\u001b[0;34m()\u001b[0m\n\u001b[1;32m      7\u001b[0m \u001b[0;31m# <><><><><><><><><><><><><><><><><><><><><><><><><><><><><><><><>\u001b[0m\u001b[0;34m\u001b[0m\u001b[0;34m\u001b[0m\u001b[0m\n\u001b[1;32m      8\u001b[0m \u001b[0;34m\u001b[0m\u001b[0m\n\u001b[0;32m----> 9\u001b[0;31m \u001b[0mparse_folder\u001b[0m\u001b[0;34m(\u001b[0m\u001b[0minputXML\u001b[0m\u001b[0;34m,\u001b[0m \u001b[0moutputGold\u001b[0m\u001b[0;34m,\u001b[0m \u001b[0;36m0\u001b[0m\u001b[0;34m)\u001b[0m\u001b[0;34m\u001b[0m\u001b[0m\n\u001b[0m\u001b[1;32m     10\u001b[0m \u001b[0mallSentences\u001b[0m\u001b[0;34m,\u001b[0m \u001b[0mallSurfaceFeatures\u001b[0m \u001b[0;34m=\u001b[0m \u001b[0mparse_folder\u001b[0m\u001b[0;34m(\u001b[0m\u001b[0minputXML\u001b[0m\u001b[0;34m,\u001b[0m \u001b[0moutputXML\u001b[0m\u001b[0;34m,\u001b[0m \u001b[0;36m1\u001b[0m\u001b[0;34m)\u001b[0m\u001b[0;34m\u001b[0m\u001b[0m\n\u001b[1;32m     11\u001b[0m \u001b[0;34m\u001b[0m\u001b[0m\n",
      "\u001b[0;31mNameError\u001b[0m: name 'inputXML' is not defined"
     ]
    }
   ],
   "source": [
    "#!/usr/bin/env python\n",
    "\n",
    "from parser import *\n",
    "\n",
    "# Arg Check:\n",
    "# ------------------------------------\n",
    "if len(sys.argv) != 4:\n",
    "  sys.exit('''Please pass in the following arguments:\n",
    "1. The folder of xml files to be parsed.\n",
    "2. The output folder for gold summaries.\n",
    "3. The output folder for parsed training files.''')\n",
    "  \n",
    "inputXML = \"sample_rawdata\"\n",
    "outputGold = \"sample_gold\"\n",
    "outputXML = \"sample_train\"\n",
    "\n",
    "# <><><><><><><><><><><><><><><><><><><><><><><><><><><><><><><><>\n",
    "# TRAIN:\n",
    "# <><><><><><><><><><><><><><><><><><><><><><><><><><><><><><><><>\n",
    "\n",
    "parse_folder(inputXML, outputGold, 0)\n",
    "allSentences, allSurfaceFeatures = parse_folder(inputXML, outputXML, 1)\n",
    "\n",
    "print allSentences[0][0]\n",
    "\n",
    "\n",
    "\n",
    "# <><><><><><><><><><><><><><><><><><><><><><><><><><><><><><><><>\n",
    "# RANDOM NOTES:\n",
    "# <><><><><><><><><><><><><><><><><><><><><><><><><><><><><><><><>\n",
    "# import script as though it is a module to run functions from it.\n",
    "# s = f('summary')\n",
    "# s.text()\n",
    "# len(s)\n",
    "# dir(s)\n",
    "# type(s)"
   ]
  },
  {
   "cell_type": "code",
   "execution_count": null,
   "metadata": {
    "collapsed": true
   },
   "outputs": [],
   "source": []
  }
 ],
 "metadata": {
  "kernelspec": {
   "display_name": "Python 2",
   "language": "python",
   "name": "python2"
  },
  "language_info": {
   "codemirror_mode": {
    "name": "ipython",
    "version": 2
   },
   "file_extension": ".py",
   "mimetype": "text/x-python",
   "name": "python",
   "nbconvert_exporter": "python",
   "pygments_lexer": "ipython2",
   "version": "2.7.6"
  }
 },
 "nbformat": 4,
 "nbformat_minor": 0
}
