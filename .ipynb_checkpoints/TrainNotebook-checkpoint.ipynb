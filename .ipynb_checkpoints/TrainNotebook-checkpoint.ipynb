{
 "cells": [
  {
   "cell_type": "code",
   "execution_count": 1,
   "metadata": {
    "collapsed": false
   },
   "outputs": [
    {
     "name": "stdout",
     "output_type": "stream",
     "text": [
      "<><><><><><><><><><><><><><><><><><><><><><><><><><><><><><><><>\n",
      "STAGE [1] -- PARSING XML -- from sample_rawdata ...\n",
      "STAGE [1.1] -- WRITING TXT -- summaries --> sample_gold/,  bodies --> sample_train/ ...\n",
      "STAGE [2] -- PROCESSING DATA -- (tokenizing/stopwords/stemming/translating) ...\n",
      "STAGE [3] -- FEATURIZING -- (TextRank, LexRank, LDA) ...\n",
      "STAGE [4] -- TRAINING MODEL -- Logistic Regression ...\n",
      "<><><><><><><><><><><><><><><><><><><><><><><><><><><><><><><><>\n",
      "[[-0.08604497 -0.04044811 -0.12123018  0.23429397]]\n",
      "             precision    recall  f1-score   support\n",
      "\n",
      "       BODY       0.94      0.73      0.82       937\n",
      "    SUMMARY       0.08      0.34      0.13        68\n",
      "\n",
      "avg / total       0.88      0.71      0.78      1005\n",
      "\n"
     ]
    }
   ],
   "source": [
    "from parser import *\n",
    "from trainer import *\n",
    "\n",
    "inputXML = \"sample_rawdata\"\n",
    "summaryFolder = \"sample_gold\"\n",
    "bodyFolder = \"sample_train\"\n",
    "\n",
    "# <><><><><><><><><><><><><><><><><><><><><><><><><><><><><><><><><><><><><><><><><>\n",
    "# PARSE:\n",
    "# <><><><><><><><><><><><><><><><><><><><><><><><><><><><><><><><><><><><><><><><><>\n",
    "print '<><><><><><><><><><><><><><><><><><><><><><><><><><><><><><><><><><><><><><><>'\n",
    "print 'STAGE [1] -- PARSING XML -- from {0} ...'.format(inputXML)\n",
    "summaries, bodies = parse_xml_folder(inputXML, summaryFolder, bodyFolder, writeOption='both')\n",
    "print 'STAGE [2] -- PROCESSING DATA -- (tokenizing/stopwords/stemming/translating) ...'\n",
    "p_summaries, ssf = process_data(data=summaries)\n",
    "p_bodies, bsf = process_data(data=bodies)\n",
    "# summaries, bodies, ssf, bsf = parse_and_process_xml(inputXML, summaryFolder, bodyFolder, writeOption='both')\n",
    "\n",
    "# <><><><><><><><><><><><><><><><><><><><><><><><><><><><><><><><><><><><><><><><><>\n",
    "# TRAIN:\n",
    "# <><><><><><><><><><><><><><><><><><><><><><><><><><><><><><><><><><><><><><><><><>\n",
    "print \"STAGE [3] -- FEATURIZING -- (TextRank, LexRank, LDA) ...\"\n",
    "features, labels = featurize(summaries, bodies, ssf, bsf)\n",
    "print \"STAGE [4] -- TRAINING MODEL -- Logistic Regression ...\"\n",
    "model = trainClassifier(features, labels)\n",
    "\n",
    "print '<><><><><><><><><><><><><><><><><><><><><><><><><><><><><><><><><><><><><><><>'\n",
    "scores = cross_val_score(model, features, labels, scoring=\"f1_macro\") # accuracy, f1, log_loss\n",
    "print model.coef_\n",
    "predictions = model.predict(features)\n",
    "print metrics.classification_report(labels, predictions)\n",
    "\n",
    "# ---------------------------------------------------------------\n",
    "# RANDOM NOTES:\n",
    "# ---------------------------------------------------------------\n",
    "\n",
    "# INTERMIX FEATURES:\n",
    "# ---------------------------------------------------------------\n",
    "# ['1', '2', '3'] and ['a', 'b', 'c', 'd'] => ['1', 'a', '2', 'b', '3', 'c', 'd']\n",
    "# features = [x for x in itertools.chain.from_iterable(itertools.izip_longest(summaryFeatures, bodyFeatures)) if x]\n",
    "# labels = [x for x in itertools.chain.from_iterable(itertools.izip_longest(summLabels, bodyLabels)) if x]\n"
   ]
  },
  {
   "cell_type": "code",
   "execution_count": null,
   "metadata": {
    "collapsed": true
   },
   "outputs": [],
   "source": []
  }
 ],
 "metadata": {
  "kernelspec": {
   "display_name": "Python 2",
   "language": "python",
   "name": "python2"
  },
  "language_info": {
   "codemirror_mode": {
    "name": "ipython",
    "version": 2
   },
   "file_extension": ".py",
   "mimetype": "text/x-python",
   "name": "python",
   "nbconvert_exporter": "python",
   "pygments_lexer": "ipython2",
   "version": "2.7.6"
  }
 },
 "nbformat": 4,
 "nbformat_minor": 0
}
