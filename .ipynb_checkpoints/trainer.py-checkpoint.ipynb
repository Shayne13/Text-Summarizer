{
 "cells": [
  {
   "cell_type": "code",
   "execution_count": 1,
   "metadata": {
    "collapsed": true
   },
   "outputs": [],
   "source": [
    "import itertools\n",
    "from wordentail import sklearn\n",
    "from sklearn.feature_selection import RFE\n",
    "from sklearn.feature_extraction import DictVectorizer\n",
    "from sklearn.feature_selection import SelectFpr, chi2\n",
    "from sklearn.linear_model import LogisticRegression\n",
    "from sklearn.grid_search import GridSearchCV\n",
    "from sklearn.cross_validation import cross_val_score\n",
    "from sklearn import metrics\n",
    "\n",
    "# <><><><><><><><><><><><><><><><><><><><><><><><><><><><><><><><>\n",
    "# MODEL FEATURIZING AND TRAINING METHODS:\n",
    "# <><><><><><><><><><><><><><><><><><><><><><><><><><><><><><><><>\n",
    "\n",
    "# SET FEATURES AND LABELS:\n",
    "def featurize(summarySF, bodySF):\n",
    "    LABELS = ['SUMMARY', 'BODY']\n",
    "    features = []\n",
    "    labels = []\n",
    "    for docIndex in range(len(summaryFeatures)):\n",
    "        features += summaryFeatures[docIndex] + bodyFeatures[docIndex]\n",
    "        labels += [LABELS[0]] * len(summaryFeatures[docIndex]) + [LABELS[1]] * len(bodyFeatures[docIndex])\n",
    "    return features, labels\n",
    "\n",
    "# TRAIN CLASSIFIER:\n",
    "def trainClassifier(features, labels):\n",
    "    vectorizer = DictVectorizer(sparse=False)\n",
    "    feature_matrix = vectorizer.fit_transform(features) # Features = List of training counters\n",
    "    mod = LogisticRegression(fit_intercept=True, intercept_scaling=1)\n",
    "    mod.fit(feature_matrix, labels)\n",
    "    return mod\n",
    "\n",
    "    # Return the trained model along with the objects we need to\n",
    "    # featurize test data in a way that aligns with our training\n",
    "    # matrix:\n",
    "#     return (mod, vectorizer, feature_selector, feature_function)\n",
    "\n",
    "\n",
    "\n",
    "\n",
    "# def evaluate_trained_classifier(model=None, reader=sick_dev_reader):\n",
    "#     \"\"\"Evaluate model, the output of train_classifier, on the data in reader.\"\"\"\n",
    "#     mod, vectorizer, feature_selector, feature_function = model\n",
    "#     feats, labels = featurizer(reader=reader, feature_function=feature_function)\n",
    "#     feat_matrix = vectorizer.transform(feats)\n",
    "#     if feature_selector:\n",
    "#         feat_matrix = feature_selector.transform(feat_matrix)\n",
    "#     predictions = mod.predict(feat_matrix)\n",
    "#     return metrics.classification_report(labels, predictions)"
   ]
  },
  {
   "cell_type": "code",
   "execution_count": null,
   "metadata": {
    "collapsed": true
   },
   "outputs": [],
   "source": []
  }
 ],
 "metadata": {
  "kernelspec": {
   "display_name": "Python 2",
   "language": "python",
   "name": "python2"
  },
  "language_info": {
   "codemirror_mode": {
    "name": "ipython",
    "version": 2
   },
   "file_extension": ".py",
   "mimetype": "text/x-python",
   "name": "python",
   "nbconvert_exporter": "python",
   "pygments_lexer": "ipython2",
   "version": "2.7.6"
  }
 },
 "nbformat": 4,
 "nbformat_minor": 0
}
