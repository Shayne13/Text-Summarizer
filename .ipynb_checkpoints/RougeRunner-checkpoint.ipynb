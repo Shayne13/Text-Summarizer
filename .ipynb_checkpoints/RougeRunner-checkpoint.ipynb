{
 "cells": [
  {
   "cell_type": "code",
   "execution_count": 1,
   "metadata": {
    "collapsed": false
   },
   "outputs": [
    {
     "name": "stdout",
     "output_type": "stream",
     "text": [
      "writing\n",
      "<open file 'ROUGE/text_summarizer/models/1.html', mode 'w' at 0x10b586810>\n",
      "writing\n",
      "<open file 'ROUGE/text_summarizer/models/1.html', mode 'w' at 0x10b586810>\n",
      "writing\n",
      "<open file 'ROUGE/text_summarizer/models/1.html', mode 'w' at 0x10b586810>\n",
      "writing\n",
      "<open file 'ROUGE/text_summarizer/systems/1.html', mode 'w' at 0x10b586a50>\n",
      "writing\n",
      "<open file 'ROUGE/text_summarizer/systems/1.html', mode 'w' at 0x10b586a50>\n"
     ]
    },
    {
     "ename": "CalledProcessError",
     "evalue": "Command '['perl', 'ROUGE-1.5.5.pl', '-e', 'data', '-f', 'A', '-a', '-x', '-s', '-m', '-2', '-4', '-u', 'text_summarizer/settings.xml']' returned non-zero exit status 2",
     "output_type": "error",
     "traceback": [
      "\u001b[0;31m---------------------------------------------------------------------------\u001b[0m",
      "\u001b[0;31mCalledProcessError\u001b[0m                        Traceback (most recent call last)",
      "\u001b[0;32m<ipython-input-1-da3519b6a13a>\u001b[0m in \u001b[0;36m<module>\u001b[0;34m()\u001b[0m\n\u001b[1;32m     54\u001b[0m \u001b[0mgenSum\u001b[0m \u001b[0;34m=\u001b[0m \u001b[0;34m[\u001b[0m\u001b[0;34m\"gasdf\"\u001b[0m\u001b[0;34m,\u001b[0m \u001b[0;34m\"asdf\"\u001b[0m\u001b[0;34m]\u001b[0m\u001b[0;34m\u001b[0m\u001b[0m\n\u001b[1;32m     55\u001b[0m \u001b[0;34m\u001b[0m\u001b[0m\n\u001b[0;32m---> 56\u001b[0;31m \u001b[0;32mprint\u001b[0m \u001b[0mcompareUsingRouge\u001b[0m\u001b[0;34m(\u001b[0m\u001b[0mgold\u001b[0m\u001b[0;34m,\u001b[0m \u001b[0mgenSum\u001b[0m\u001b[0;34m)\u001b[0m\u001b[0;34m\u001b[0m\u001b[0m\n\u001b[0m",
      "\u001b[0;32m<ipython-input-1-da3519b6a13a>\u001b[0m in \u001b[0;36mcompareUsingRouge\u001b[0;34m(goldSummary, testSummary)\u001b[0m\n\u001b[1;32m     22\u001b[0m \u001b[0;34m\u001b[0m\u001b[0m\n\u001b[1;32m     23\u001b[0m     \u001b[0;31m# Run ROUGE\u001b[0m\u001b[0;34m\u001b[0m\u001b[0;34m\u001b[0m\u001b[0m\n\u001b[0;32m---> 24\u001b[0;31m     \u001b[0mmyout\u001b[0m \u001b[0;34m=\u001b[0m \u001b[0msubprocess\u001b[0m\u001b[0;34m.\u001b[0m\u001b[0mcheck_output\u001b[0m\u001b[0;34m(\u001b[0m\u001b[0;34m[\u001b[0m\u001b[0;34m'perl'\u001b[0m\u001b[0;34m,\u001b[0m \u001b[0;34m'ROUGE-1.5.5.pl'\u001b[0m\u001b[0;34m,\u001b[0m \u001b[0;34m'-e'\u001b[0m\u001b[0;34m,\u001b[0m \u001b[0;34m'data'\u001b[0m\u001b[0;34m,\u001b[0m \u001b[0;34m'-f'\u001b[0m\u001b[0;34m,\u001b[0m \u001b[0;34m'A'\u001b[0m\u001b[0;34m,\u001b[0m \u001b[0;34m'-a'\u001b[0m\u001b[0;34m,\u001b[0m \u001b[0;34m'-x'\u001b[0m\u001b[0;34m,\u001b[0m \u001b[0;34m'-s'\u001b[0m\u001b[0;34m,\u001b[0m \u001b[0;34m'-m'\u001b[0m\u001b[0;34m,\u001b[0m \u001b[0;34m'-2'\u001b[0m\u001b[0;34m,\u001b[0m \u001b[0;34m'-4'\u001b[0m\u001b[0;34m,\u001b[0m \u001b[0;34m'-u'\u001b[0m\u001b[0;34m,\u001b[0m \u001b[0;34m'text_summarizer/settings.xml'\u001b[0m\u001b[0;34m]\u001b[0m\u001b[0;34m)\u001b[0m\u001b[0;34m\u001b[0m\u001b[0m\n\u001b[0m\u001b[1;32m     25\u001b[0m \u001b[0;34m\u001b[0m\u001b[0m\n\u001b[1;32m     26\u001b[0m     \u001b[0;32mreturn\u001b[0m \u001b[0mmyout\u001b[0m\u001b[0;34m\u001b[0m\u001b[0m\n",
      "\u001b[0;32m/System/Library/Frameworks/Python.framework/Versions/2.7/lib/python2.7/subprocess.pyc\u001b[0m in \u001b[0;36mcheck_output\u001b[0;34m(*popenargs, **kwargs)\u001b[0m\n\u001b[1;32m    571\u001b[0m         \u001b[0;32mif\u001b[0m \u001b[0mcmd\u001b[0m \u001b[0;32mis\u001b[0m \u001b[0mNone\u001b[0m\u001b[0;34m:\u001b[0m\u001b[0;34m\u001b[0m\u001b[0m\n\u001b[1;32m    572\u001b[0m             \u001b[0mcmd\u001b[0m \u001b[0;34m=\u001b[0m \u001b[0mpopenargs\u001b[0m\u001b[0;34m[\u001b[0m\u001b[0;36m0\u001b[0m\u001b[0;34m]\u001b[0m\u001b[0;34m\u001b[0m\u001b[0m\n\u001b[0;32m--> 573\u001b[0;31m         \u001b[0;32mraise\u001b[0m \u001b[0mCalledProcessError\u001b[0m\u001b[0;34m(\u001b[0m\u001b[0mretcode\u001b[0m\u001b[0;34m,\u001b[0m \u001b[0mcmd\u001b[0m\u001b[0;34m,\u001b[0m \u001b[0moutput\u001b[0m\u001b[0;34m=\u001b[0m\u001b[0moutput\u001b[0m\u001b[0;34m)\u001b[0m\u001b[0;34m\u001b[0m\u001b[0m\n\u001b[0m\u001b[1;32m    574\u001b[0m     \u001b[0;32mreturn\u001b[0m \u001b[0moutput\u001b[0m\u001b[0;34m\u001b[0m\u001b[0m\n\u001b[1;32m    575\u001b[0m \u001b[0;34m\u001b[0m\u001b[0m\n",
      "\u001b[0;31mCalledProcessError\u001b[0m: Command '['perl', 'ROUGE-1.5.5.pl', '-e', 'data', '-f', 'A', '-a', '-x', '-s', '-m', '-2', '-4', '-u', 'text_summarizer/settings.xml']' returned non-zero exit status 2"
     ]
    }
   ],
   "source": [
    "import os\n",
    "import sys\n",
    "import subprocess\n",
    "import re\n",
    "import unicodedata\n",
    "\n",
    "\n",
    "### runRouge(goldSummary, testSummary)\n",
    "### PARAMS  - goldSummary and testSummary are lists of sentences \n",
    "### RETURNS - Runs ROUGE on those summaries and returns an int from 0-1,\n",
    "###           where a higher value represents a better match to GOLD\n",
    "\n",
    "def compareUsingRouge(goldSummary, testSummary):\n",
    "    \n",
    "    # Put summary into file\n",
    "    goldFile = open(\"ROUGE/text_summarizer/models/1.html\", 'w')\n",
    "    testFile = open(\"ROUGE/text_summarizer/systems/1.html\", 'w')\n",
    "    writeSentencesToFile(goldSummary, goldFile)\n",
    "    writeSentencesToFile(testSummary, testFile)\n",
    "    #goldFile.close()\n",
    "    #testFile.close()\n",
    "    \n",
    "    # Run ROUGE\n",
    "    myout = subprocess.check_output(['perl', 'ROUGE-1.5.5.pl', '-e', 'data', '-f', 'A', '-a', '-x', '-s', '-m', '-2', '-4', '-u', 'text_summarizer/settings.xml'])\n",
    "    \n",
    "    return myout\n",
    "    # Return results \n",
    "    match1 = re.search(r'Average_R: (.{7})', myout)\n",
    "    score1 = float(match1.group(1))\n",
    "    match2 = re.search(r'Average_P: (.{7})', myout)\n",
    "    score2 = float(match2.group(1))\n",
    "    match3 = re.search(r'Average_F: (.{7})', myout)\n",
    "    score3 = float(match3.group(1))\n",
    "    scoreList = [score1, score2, score3]\n",
    "    avgScore = sum(scoreList)/len(scoreList)\n",
    "    return avgScore    \n",
    "    \n",
    "    \n",
    "def writeSentencesToFile(sentences, fileToWrite):\n",
    "    fileToWrite.write('<html>' + \"\\n\");\n",
    "    fileToWrite.write('<head><title>1.html</title> </head>' + \"\\n\")\n",
    "    fileToWrite.write('<body bgcolor=\"white\"> ' + \"\\n\")\n",
    "\n",
    "    for index in range (0, len(sentences)):\n",
    "        print \"writing\"\n",
    "        print fileToWrite\n",
    "        fileToWrite.write('<a name=\\\"' + str(index+1) + '\">[' + str(index+1) + ']</a> <a href=\"#' + str(index+1) + '\" id=' + str(index+1) + '>')\n",
    "        fileToWrite.write(sentences[index])\n",
    "        fileToWrite.write('</a>'+\"\\n\")\n",
    "\n",
    "    fileToWrite.write('</body>'+\"\\n\"+'</html>')    \n",
    "\n",
    "gold = [\"asdf\", \"asdf\", \"fasdf\"]\n",
    "genSum = [\"gasdf\", \"asdf\"]\n",
    "\n",
    "print compareUsingRouge(gold, genSum)"
   ]
  },
  {
   "cell_type": "code",
   "execution_count": 50,
   "metadata": {
    "collapsed": false
   },
   "outputs": [
    {
     "ename": "NameError",
     "evalue": "name 'retcode' is not defined",
     "output_type": "error",
     "traceback": [
      "\u001b[0;31m---------------------------------------------------------------------------\u001b[0m",
      "\u001b[0;31mNameError\u001b[0m                                 Traceback (most recent call last)",
      "\u001b[0;32m<ipython-input-50-c647765d63a2>\u001b[0m in \u001b[0;36m<module>\u001b[0;34m()\u001b[0m\n\u001b[0;32m----> 1\u001b[0;31m \u001b[0mretcode\u001b[0m\u001b[0;34m\u001b[0m\u001b[0m\n\u001b[0m",
      "\u001b[0;31mNameError\u001b[0m: name 'retcode' is not defined"
     ]
    }
   ],
   "source": []
  },
  {
   "cell_type": "code",
   "execution_count": null,
   "metadata": {
    "collapsed": true
   },
   "outputs": [],
   "source": []
  }
 ],
 "metadata": {
  "kernelspec": {
   "display_name": "Python 2",
   "language": "python",
   "name": "python2"
  },
  "language_info": {
   "codemirror_mode": {
    "name": "ipython",
    "version": 2
   },
   "file_extension": ".py",
   "mimetype": "text/x-python",
   "name": "python",
   "nbconvert_exporter": "python",
   "pygments_lexer": "ipython2",
   "version": "2.7.6"
  }
 },
 "nbformat": 4,
 "nbformat_minor": 0
}
